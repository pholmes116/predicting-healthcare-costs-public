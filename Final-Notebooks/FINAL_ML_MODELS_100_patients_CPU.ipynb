{
  "cells": [
    {
      "cell_type": "code",
      "execution_count": 1,
      "metadata": {
        "id": "y3mqRk7RpXDd",
        "tags": []
      },
      "outputs": [],
      "source": [
        "import os\n",
        "import pandas as pd\n",
        "import time\n",
        "import glob\n",
        "from IPython.display import clear_output\n",
        "\n",
        "\n",
        "from pyspark.sql import SparkSession\n",
        "import pyspark.sql.functions as sql_f\n",
        "from pyspark.sql.types import *\n",
        "from pyspark.sql.functions import to_date, datediff, floor, col, avg, substring, when, length, lpad, monotonically_increasing_id, expr, unix_timestamp\n",
        "from pyspark.ml import Pipeline\n",
        "from pyspark.ml.feature import StringIndexer, OneHotEncoder, VectorAssembler, VectorIndexer\n",
        "from pyspark.ml.regression import LinearRegression, RandomForestRegressor, GBTRegressor\n",
        "from pyspark.ml.evaluation import RegressionEvaluator\n",
        "from concurrent.futures import ThreadPoolExecutor\n",
        "\n",
        "spark = SparkSession.builder.getOrCreate()"
      ]
    },
    {
      "cell_type": "code",
      "source": [
        "!pip install pyspark"
      ],
      "metadata": {
        "colab": {
          "base_uri": "https://localhost:8080/"
        },
        "id": "C4JfOvQOLK4l",
        "outputId": "3dc1603b-85d6-4543-b262-752524145690"
      },
      "execution_count": 2,
      "outputs": [
        {
          "output_type": "stream",
          "name": "stdout",
          "text": [
            "Requirement already satisfied: pyspark in /usr/local/lib/python3.11/dist-packages (3.5.1)\n",
            "Requirement already satisfied: py4j==0.10.9.7 in /usr/local/lib/python3.11/dist-packages (from pyspark) (0.10.9.7)\n"
          ]
        }
      ]
    },
    {
      "cell_type": "code",
      "execution_count": 3,
      "metadata": {
        "id": "SMV2TuVALBTn"
      },
      "outputs": [],
      "source": [
        "#Function to measure execution time...\n",
        "def time_execution(task_name, func):\n",
        "    start_time = time.time()\n",
        "    result = func()\n",
        "    end_time = time.time()\n",
        "    duration = end_time - start_time\n",
        "    print(f\"{task_name} executed in {duration:.2f} seconds\")\n",
        "    return result, duration\n"
      ]
    },
    {
      "cell_type": "code",
      "source": [
        "# @title Synthea Patient Generator (CSV Version)\n",
        "import os\n",
        "from IPython.display import clear_output\n",
        "\n",
        "#configuration\n",
        "num_patients = 100  # @param {type:\"integer\"}\n",
        "state = \"Massachusetts\"  # @param [\"Massachusetts\", \"California\", \"New York\", \"Texas\", \"Florida\"]\n",
        "age_range = \"30-85\"  # @param {type:\"string\"}\n",
        "seed = 12345  # @param {type:\"integer\"}\n",
        "\n",
        "#install Java\n",
        "!sudo apt-get update\n",
        "!sudo apt-get install -y openjdk-11-jdk-headless\n",
        "clear_output()\n",
        "print(\"Java installed\")\n",
        "\n",
        "#download Synthea\n",
        "!wget -q https://github.com/synthetichealth/synthea/releases/download/master-branch-latest/synthea-with-dependencies.jar\n",
        "clear_output()\n",
        "print(\"Synthea downloaded\")\n",
        "\n",
        "#generate patients (using proper string substitution)\n",
        "!java -jar synthea-with-dependencies.jar \\\n",
        "  -p {num_patients} \\\n",
        "  -s {seed} \\\n",
        "  -a \"{age_range}\" \\\n",
        "  --exporter.baseDirectory \"./output\" \\\n",
        "  --exporter.fhir.export=False \\\n",
        "  --exporter.csv.export=True \\\n",
        "  {state}\n",
        "\n",
        "#verify output\n",
        "csv_output_path = \"./output/csv\"\n",
        "if os.path.exists(csv_output_path):\n",
        "    csv_files = [f for f in os.listdir(csv_output_path) if f.endswith('.csv')]\n",
        "    if csv_files:\n",
        "        print(f\"\\nSuccess! Generated {len(csv_files)} CSV files:\")\n",
        "        for file in csv_files[:5]:\n",
        "            print(f\"- {file}\")\n",
        "        print(f\"\\nTotal records across all CSV files: {num_patients} patients\")\n",
        "    else:\n",
        "        print(\"\\nCSV directory exists but contains no CSV files\")\n",
        "else:\n",
        "    print(\"\\nGeneration failed. Common fixes:\")\n",
        "    print(\"1. Try reducing patient count (start with 10)\")\n",
        "    print(\"2. Check Java version:\")\n",
        "    !java -version\n",
        "    print(\"3. Disk space:\")\n",
        "    !df -h"
      ],
      "metadata": {
        "colab": {
          "base_uri": "https://localhost:8080/"
        },
        "id": "P1EftcGjLIAi",
        "outputId": "99cef8bd-2463-4591-83ee-c101af2d1bdb"
      },
      "execution_count": 9,
      "outputs": [
        {
          "output_type": "stream",
          "name": "stdout",
          "text": [
            "Synthea downloaded\n",
            "SLF4J: No SLF4J providers were found.\n",
            "SLF4J: Defaulting to no-operation (NOP) logger implementation\n",
            "SLF4J: See http://www.slf4j.org/codes.html#noProviders for further details.\n",
            "Scanned 88 modules and 152 submodules.\n",
            "Loading submodule modules/allergies/allergy_panel.json\n",
            "Loading submodule modules/allergies/drug_allergy_incidence.json\n",
            "Loading submodule modules/allergies/environmental_allergy_incidence.json\n",
            "Loading submodule modules/allergies/food_allergy_incidence.json\n",
            "Loading submodule modules/allergies/immunotherapy.json\n",
            "Loading submodule modules/allergies/outgrow_env_allergies.json\n",
            "Loading submodule modules/allergies/outgrow_food_allergies.json\n",
            "Loading submodule modules/allergies/severe_allergic_reaction.json\n",
            "Loading submodule modules/anemia/anemia_sub.json\n",
            "Loading submodule modules/breast_cancer/chemotherapy_breast.json\n",
            "Loading submodule modules/breast_cancer/hormone_diagnosis.json\n",
            "Loading submodule modules/breast_cancer/hormonetherapy_breast.json\n",
            "Loading submodule modules/breast_cancer/surgery_therapy_breast.json\n",
            "Loading submodule modules/breast_cancer/tnm_diagnosis.json\n",
            "Loading submodule modules/contraceptives/clear_contraceptive.json\n",
            "Loading submodule modules/contraceptives/female_sterilization.json\n",
            "Loading submodule modules/contraceptives/implant_contraceptive.json\n",
            "Loading submodule modules/contraceptives/injectable_contraceptive.json\n",
            "Loading submodule modules/contraceptives/intrauterine_device.json\n",
            "Loading submodule modules/contraceptives/male_sterilization.json\n",
            "Loading submodule modules/contraceptives/oral_contraceptive.json\n",
            "Loading submodule modules/contraceptives/patch_contraceptive.json\n",
            "Loading submodule modules/contraceptives/ring_contraceptive.json\n",
            "Loading submodule modules/covid19/admission.json\n",
            "Loading submodule modules/covid19/determine_risk.json\n",
            "Loading Lookup Table: covid-19-severity-outcomes.csv\n",
            "Loading Lookup Table: covid-19-survival-outcomes.csv\n",
            "Loading submodule modules/covid19/diagnose_bacterial_infection.json\n",
            "Loading submodule modules/covid19/diagnose_blood_clot.json\n",
            "Loading submodule modules/covid19/end_outcomes.json\n",
            "Loading submodule modules/covid19/end_symptoms.json\n",
            "Loading submodule modules/covid19/infection.json\n",
            "Loading submodule modules/covid19/measurements_daily.json\n",
            "Loading submodule modules/covid19/measurements_frequent.json\n",
            "Loading submodule modules/covid19/measurements_vitals.json\n",
            "Loading submodule modules/covid19/medications.json\n",
            "Loading submodule modules/covid19/nonsurvivor_lab_values.json\n",
            "Loading submodule modules/covid19/outcomes.json\n",
            "Loading submodule modules/covid19/supplies_hospitalization.json\n",
            "Loading submodule modules/covid19/supplies_icu.json\n",
            "Loading submodule modules/covid19/supplies_intubation.json\n",
            "Loading submodule modules/covid19/survivor_lab_values.json\n",
            "Loading submodule modules/covid19/symptoms.json\n",
            "Loading submodule modules/covid19/treat_blood_clot.json\n",
            "Loading submodule modules/dermatitis/early_moderate_eczema_obs.json\n",
            "Loading submodule modules/dermatitis/early_severe_eczema_obs.json\n",
            "Loading submodule modules/dermatitis/mid_moderate_eczema_obs.json\n",
            "Loading submodule modules/dermatitis/mid_severe_eczema_obs.json\n",
            "Loading submodule modules/dermatitis/moderate_cd_obs.json\n",
            "Loading submodule modules/dermatitis/severe_cd_obs.json\n",
            "Loading submodule modules/dme/wheelchair.json\n",
            "Loading submodule modules/dme/wheelchair_end.json\n",
            "Loading submodule modules/encounter/anxiety_screening.json\n",
            "Loading submodule modules/encounter/depression_screening.json\n",
            "Loading submodule modules/encounter/fall_risk_screening.json\n",
            "Loading submodule modules/encounter/hark_screening.json\n",
            "Loading submodule modules/encounter/hospital_basic_labs.json\n",
            "Loading submodule modules/encounter/sdoh_hrsn.json\n",
            "Loading submodule modules/encounter/substance_use_screening.json\n",
            "Loading submodule modules/encounter/vitals.json\n",
            "Loading submodule modules/heart/acs_anticoagulant.json\n",
            "Loading submodule modules/heart/acs_antiplatelet.json\n",
            "Loading submodule modules/heart/acs_arrival_medications.json\n",
            "Loading submodule modules/heart/acs_discharge_meds.json\n",
            "Loading submodule modules/heart/avrr/antithrombotic.json\n",
            "Loading submodule modules/heart/avrr/avrr_referral.json\n",
            "Loading submodule modules/heart/avrr/intraop_meds_blood.json\n",
            "Loading submodule modules/heart/avrr/outcomes.json\n",
            "Loading submodule modules/heart/avrr/preoperative.json\n",
            "Loading submodule modules/heart/avrr/savrr_operation.json\n",
            "Loading submodule modules/heart/avrr/savrr_postop.json\n",
            "Loading submodule modules/heart/avrr/sequence.json\n",
            "Loading submodule modules/heart/cabg/cabg_referral.json\n",
            "Loading submodule modules/heart/cabg/details.json\n",
            "Loading Lookup Table: cabg_details_operative_approach.csv\n",
            "Loading Lookup Table: cabg_details_num_grafts.csv\n",
            "Loading Lookup Table: cabg_details_num_art_cond.csv\n",
            "Loading submodule modules/heart/cabg/icu_meds_devices.json\n",
            "Loading submodule modules/heart/cabg/labs_common.json\n",
            "Loading submodule modules/heart/cabg/operation.json\n",
            "Loading submodule modules/heart/cabg/or_intraop.json\n",
            "Loading submodule modules/heart/cabg/or_labs_meds.json\n",
            "Loading submodule modules/heart/cabg/outcomes.json\n",
            "Loading submodule modules/heart/cabg/postop.json\n",
            "Loading submodule modules/heart/cabg/postop_blood.json\n",
            "Loading submodule modules/heart/cabg/preoperative.json\n",
            "Loading submodule modules/heart/cabg_sequence.json\n",
            "Loading submodule modules/heart/cardiac_labs.json\n",
            "Loading submodule modules/heart/chf_lab_work.json\n",
            "Loading submodule modules/heart/chf_lvad.json\n",
            "Loading submodule modules/heart/chf_meds.json\n",
            "Loading submodule modules/heart/chf_meds_hfmef.json\n",
            "Loading submodule modules/heart/chf_meds_hfref_nyha2.json\n",
            "Loading submodule modules/heart/chf_meds_hfref_nyha3.json\n",
            "Loading submodule modules/heart/chf_meds_hfref_nyha4.json\n",
            "Loading submodule modules/heart/chf_nyha_panel.json\n",
            "Loading submodule modules/heart/chf_transplant.json\n",
            "Loading submodule modules/heart/nsteacs_pathway.json\n",
            "Loading submodule modules/heart/operative_status.json\n",
            "Loading submodule modules/heart/or_blood.json\n",
            "Loading Lookup Table: or_blood_anemia_check.csv\n",
            "Loading Lookup Table: or_blood_platelet_check.csv\n",
            "Loading Lookup Table: or_blood_plasma_check.csv\n",
            "Loading submodule modules/heart/savrepair/operative_status.json\n",
            "Loading submodule modules/heart/savreplace/operative_status.json\n",
            "Loading submodule modules/heart/stemi_fibrinolytic.json\n",
            "Loading submodule modules/heart/stemi_pathway.json\n",
            "Loading submodule modules/heart/tavr/alt_access.json\n",
            "Loading submodule modules/heart/tavr/operation.json\n",
            "Loading submodule modules/heart/tavr/operative_status.json\n",
            "Loading submodule modules/heart/tavr/outcomes.json\n",
            "Loading submodule modules/heart/tavr/postop.json\n",
            "Loading submodule modules/heart/vhd_risks.json\n",
            "Loading submodule modules/hiv/art_sequence.json\n",
            "Loading submodule modules/hiv/art_sequence_1987_1994.json\n",
            "Loading submodule modules/hiv/art_sequence_1995_1996.json\n",
            "Loading submodule modules/hiv/art_sequence_1997_2002.json\n",
            "Loading submodule modules/hiv/art_sequence_2003_2005.json\n",
            "Loading submodule modules/hiv/art_sequence_2006_2014.json\n",
            "Loading submodule modules/hiv/art_sequence_2015.json\n",
            "Loading submodule modules/hiv/hiv_baseline.json\n",
            "Loading submodule modules/hiv/hiv_cd4.json\n",
            "Loading Lookup Table: hiv_stage.csv\n",
            "Loading submodule modules/hiv/hiv_oi_prophylaxis.json\n",
            "Loading submodule modules/hiv/hiv_screening.json\n",
            "Loading submodule modules/hiv/hiv_viral_load.json\n",
            "Loading submodule modules/hiv/stop_all_art_meds.json\n",
            "Loading submodule modules/injuries/broken_jaw.json\n",
            "Loading submodule modules/lung_cancer/lung_cancer_probabilities.json\n",
            "Loading submodule modules/medications/ace_arb.json\n",
            "Loading Lookup Table: ace_arb_ingredient_distribution.csv\n",
            "Loading Lookup Table: ace_arb_amlodipine_benazepril_product_distribution.csv\n",
            "Loading Lookup Table: ace_arb_benazepril_product_distribution.csv\n",
            "Loading Lookup Table: ace_arb_benazepril_hydrochlorothiazide_product_distribution.csv\n",
            "Loading Lookup Table: ace_arb_enalapril_product_distribution.csv\n",
            "Loading Lookup Table: ace_arb_hydrochlorothiazide_lisinopril_product_distribution.csv\n",
            "Loading Lookup Table: ace_arb_hydrochlorothiazide_losartan_product_distribution.csv\n",
            "Loading Lookup Table: ace_arb_hydrochlorothiazide_valsartan_product_distribution.csv\n",
            "Loading Lookup Table: ace_arb_irbesartan_product_distribution.csv\n",
            "Loading Lookup Table: ace_arb_lisinopril_product_distribution.csv\n",
            "Loading Lookup Table: ace_arb_losartan_product_distribution.csv\n",
            "Loading Lookup Table: ace_arb_quinapril_product_distribution.csv\n",
            "Loading Lookup Table: ace_arb_ramipril_product_distribution.csv\n",
            "Loading Lookup Table: ace_arb_sacubitril_valsartan_product_distribution.csv\n",
            "Loading Lookup Table: ace_arb_telmisartan_product_distribution.csv\n",
            "Loading Lookup Table: ace_arb_valsartan_product_distribution.csv\n",
            "Loading submodule modules/medications/beta_blocker.json\n",
            "Loading Lookup Table: beta_blocker_ingredient_distribution.csv\n",
            "Loading Lookup Table: beta_blocker_atenolol_product_distribution.csv\n",
            "Loading Lookup Table: beta_blocker_bisoprolol_product_distribution.csv\n",
            "Loading Lookup Table: beta_blocker_bisoprolol_hydrochlorothiazide_product_distribution.csv\n",
            "Loading Lookup Table: beta_blocker_carvedilol_product_distribution.csv\n",
            "Loading Lookup Table: beta_blocker_labetalol_product_distribution.csv\n",
            "Loading Lookup Table: beta_blocker_metoprolol_product_distribution.csv\n",
            "Loading Lookup Table: beta_blocker_nebivolol_product_distribution.csv\n",
            "Loading Lookup Table: beta_blocker_propranolol_product_distribution.csv\n",
            "Loading submodule modules/medications/ear_infection_antibiotic.json\n",
            "Loading submodule modules/medications/emergency_inhaler.json\n",
            "Loading Lookup Table: emergency_inhaler_ingredient_distribution.csv\n",
            "Loading Lookup Table: emergency_inhaler_albuterol_product_distribution.csv\n",
            "Loading Lookup Table: emergency_inhaler_levalbuterol_product_distribution.csv\n",
            "Loading submodule modules/medications/hypertension_medication.json\n",
            "Loading submodule modules/medications/maintenance_inhaler.json\n",
            "Loading Lookup Table: maintenance_inhaler_ingredient_distribution.csv\n",
            "Loading Lookup Table: maintenance_inhaler_beclomethasone_product_distribution.csv\n",
            "Loading Lookup Table: maintenance_inhaler_budesonide_product_distribution.csv\n",
            "Loading Lookup Table: maintenance_inhaler_fluticasone_product_distribution.csv\n",
            "Loading Lookup Table: maintenance_inhaler_mometasone_product_distribution.csv\n",
            "Loading submodule modules/medications/moderate_opioid_pain_reliever.json\n",
            "Loading submodule modules/medications/otc_antihistamine.json\n",
            "Loading submodule modules/medications/otc_pain_reliever.json\n",
            "Loading submodule modules/medications/statin.json\n",
            "Loading Lookup Table: statin_ingredient_distribution.csv\n",
            "Loading Lookup Table: statin_atorvastatin_product_distribution.csv\n",
            "Loading Lookup Table: statin_ezetimibe_simvastatin_product_distribution.csv\n",
            "Loading Lookup Table: statin_lovastatin_product_distribution.csv\n",
            "Loading Lookup Table: statin_pitavastatin_product_distribution.csv\n",
            "Loading Lookup Table: statin_pravastatin_product_distribution.csv\n",
            "Loading Lookup Table: statin_rosuvastatin_product_distribution.csv\n",
            "Loading Lookup Table: statin_simvastatin_product_distribution.csv\n",
            "Loading submodule modules/medications/strong_opioid_pain_reliever.json\n",
            "Loading submodule modules/metabolic_syndrome/amputations.json\n",
            "Loading submodule modules/metabolic_syndrome/dme_supplies.json\n",
            "Loading submodule modules/metabolic_syndrome/eye_conditions.json\n",
            "Loading submodule modules/metabolic_syndrome/kidney_conditions.json\n",
            "Loading submodule modules/metabolic_syndrome/medications.json\n",
            "Loading submodule modules/snf/skilled_nursing_facility.json\n",
            "Loading submodule modules/surgery/general_anesthesia.json\n",
            "Loading submodule modules/total_joint_replacement/functional_status_assessments.json\n",
            "Loading submodule modules/uti/abx_tx.json\n",
            "Loading submodule modules/uti/ambulatory_eval.json\n",
            "Loading submodule modules/uti/ambulatory_path.json\n",
            "Loading submodule modules/uti/ed_bundle.json\n",
            "Loading submodule modules/uti/ed_eval.json\n",
            "Loading submodule modules/uti/ed_path.json\n",
            "Loading submodule modules/uti/gu_pregnancy_check.json\n",
            "Loading submodule modules/uti/hpi.json\n",
            "Loading submodule modules/uti/lab_follow_up.json\n",
            "Loading submodule modules/uti/labs.json\n",
            "Loading submodule modules/uti/telemed_path.json\n",
            "Loading submodule modules/veterans/veteran_suicide_probabilities.json\n",
            "Loading submodule modules/weight_loss/mend_week.json\n",
            "Loading module modules/acute_myeloid_leukemia.json\n",
            "Loading Lookup Table: AML.csv\n",
            "Loading module modules/allergic_rhinitis.json\n",
            "Loading module modules/allergies.json\n",
            "Loading module modules/anemia___unknown_etiology.json\n",
            "Loading module modules/appendicitis.json\n",
            "Loading module modules/asthma.json\n",
            "Loading module modules/atopy.json\n",
            "Loading module modules/atrial_fibrillation.json\n",
            "Loading module modules/attention_deficit_disorder.json\n",
            "Loading module modules/bone_marrow_transplant.json\n",
            "Loading module modules/breast_cancer.json\n",
            "Loading module modules/bronchitis.json\n",
            "Loading module modules/cerebral_palsy.json\n",
            "Loading module modules/chronic_kidney_disease.json\n",
            "Loading module modules/colorectal_cancer.json\n",
            "Loading module modules/congestive_heart_failure.json\n",
            "Loading module modules/contraceptive_maintenance.json\n",
            "Loading module modules/contraceptives.json\n",
            "Loading module modules/copd.json\n",
            "Loading module modules/covid19.json\n",
            "Loading Lookup Table: covid19_prob.csv\n",
            "Loading module modules/cystic_fibrosis.json\n",
            "Loading module modules/dementia.json\n",
            "Loading module modules/dental_and_oral_examination.json\n",
            "Loading module modules/dentures.json\n",
            "Loading module modules/dermatitis.json\n",
            "Loading module modules/dialysis.json\n",
            "Loading module modules/ear_infections.json\n",
            "Loading module modules/epilepsy.json\n",
            "Loading module modules/female_reproduction.json\n",
            "Loading module modules/fibromyalgia.json\n",
            "Loading module modules/food_allergies.json\n",
            "Loading module modules/gallstones.json\n",
            "Loading module modules/gout.json\n",
            "Loading module modules/hiv_care.json\n",
            "Loading Lookup Table: hiv_care.csv\n",
            "Loading module modules/hiv_diagnosis.json\n",
            "Loading Lookup Table: hiv_mortality_later.csv\n",
            "Loading Lookup Table: hiv_mortality_early.csv\n",
            "Loading Lookup Table: hiv_mortality_very_early.csv\n",
            "Loading Lookup Table: hiv_diagnosis_early.csv\n",
            "Loading Lookup Table: hiv_diagnosis_later.csv\n",
            "Loading module modules/home_health_treatment.json\n",
            "Loading module modules/home_hospice_snf.json\n",
            "Loading module modules/homelessness.json\n",
            "Loading module modules/hospice_treatment.json\n",
            "Loading module modules/hypertension.json\n",
            "Loading module modules/hypothyroidism.json\n",
            "Loading module modules/injuries.json\n",
            "Loading module modules/kidney_transplant.json\n",
            "Loading module modules/lung_cancer.json\n",
            "Loading module modules/lupus.json\n",
            "Loading module modules/mTBI.json\n",
            "Loading module modules/med_rec.json\n",
            "Loading module modules/mend_program.json\n",
            "Loading module modules/metabolic_syndrome_care.json\n",
            "Loading module modules/metabolic_syndrome_disease.json\n",
            "Loading module modules/myocardial_infarction.json\n",
            "Loading module modules/opioid_addiction.json\n",
            "Loading module modules/osteoarthritis.json\n",
            "Loading module modules/osteoporosis.json\n",
            "Loading module modules/pregnancy.json\n",
            "Loading module modules/prescribing_opioids_for_chronic_pain_and_treatment_of_oud.json\n",
            "Loading module modules/rheumatoid_arthritis.json\n",
            "Loading module modules/self_harm.json\n",
            "Loading module modules/sepsis.json\n",
            "Loading module modules/sexual_activity.json\n",
            "Loading module modules/sinusitis.json\n",
            "Loading module modules/sleep_apnea.json\n",
            "Loading module modules/sore_throat.json\n",
            "Loading module modules/spina_bifida.json\n",
            "Loading module modules/stable_ischemic_heart_disease.json\n",
            "Loading module modules/stroke.json\n",
            "Loading module modules/total_joint_replacement.json\n",
            "Loading module modules/trigger_bone_marrow_transplant.json\n",
            "Loading module modules/urinary_tract_infections.json\n",
            "Loading Lookup Table: uti.csv\n",
            "Loading Lookup Table: uti_recurrence.csv\n",
            "Loading module modules/veteran.json\n",
            "Loading module modules/veteran_hyperlipidemia.json\n",
            "Loading module modules/veteran_lung_cancer.json\n",
            "Loading module modules/veteran_mdd.json\n",
            "Loading module modules/veteran_prostate_cancer.json\n",
            "Loading module modules/veteran_ptsd.json\n",
            "Loading module modules/veteran_self_harm.json\n",
            "Loading module modules/veteran_substance_abuse_conditions.json\n",
            "Loading module modules/veteran_substance_abuse_treatment.json\n",
            "Loading module modules/vhd_aortic.json\n",
            "Loading Lookup Table: vhd_as.csv\n",
            "Loading Lookup Table: vhd_ar.csv\n",
            "Loading module modules/vhd_mitral.json\n",
            "Loading Lookup Table: vhd_mr.csv\n",
            "Loading Lookup Table: vhd_ms.csv\n",
            "Loading module modules/vhd_pulmonic.json\n",
            "Loading Lookup Table: vhd_ps.csv\n",
            "Loading Lookup Table: vhd_pr.csv\n",
            "Loading module modules/vhd_tricuspid.json\n",
            "Loading Lookup Table: vhd_tr.csv\n",
            "Loading Lookup Table: vhd_ts.csv\n",
            "Loading module modules/wellness_encounters.json\n",
            "Running with options:\n",
            "Population: 100\n",
            "Seed: 12345\n",
            "Provider Seed:1746535907659\n",
            "Reference Time: 1746535907659\n",
            "Location: Massachusetts\n",
            "Min Age: 30\n",
            "Max Age: 85\n",
            "2 -- Rasheeda241 Mirian768 Dach178 (35 y/o F) Boston, Massachusetts  (50927)\n",
            "1 -- Lorenzo669 Urrutia540 (67 y/o M) Chicopee, Massachusetts  (145814)\n",
            "3 -- Jacque955 Jin479 Bailey598 (60 y/o F) Shrewsbury, Massachusetts DECEASED (97446)\n",
            "4 -- Keven605 Daugherty69 (50 y/o M) Dalton, Massachusetts  (73297)\n",
            "3 -- Sherrill767 Predovic534 (66 y/o F) Shrewsbury, Massachusetts DECEASED (95621)\n",
            "3 -- Shani239 Dawna21 Howe413 (46 y/o F) Shrewsbury, Massachusetts DECEASED (66432)\n",
            "5 -- Angela104 Funk324 (81 y/o F) South Yarmouth, Massachusetts  (116514)\n",
            "6 -- Darrell400 Muller251 (50 y/o M) Lowell, Massachusetts  (69104)\n",
            "3 -- Oralee226 Emard19 (68 y/o F) Shrewsbury, Massachusetts  (99762)\n",
            "7 -- Claudia969 Escobedo608 (35 y/o F) Lynn, Massachusetts  (51109)\n",
            "8 -- Luther918 MacGyver246 (47 y/o M) Boston, Massachusetts DECEASED (66110)\n",
            "9 -- Alfred550 West559 (31 y/o M) Belmont, Massachusetts  (46642)\n",
            "8 -- Donn979 Hackett68 (81 y/o M) Boston, Massachusetts  (114803)\n",
            "10 -- Frederick289 Breitenberg711 (55 y/o M) Whitman, Massachusetts DECEASED (83355)\n",
            "11 -- Velvet616 Belia417 Baumbach677 (41 y/o F) Middleborough, Massachusetts  (61397)\n",
            "10 -- Michale231 Lueilwitz711 (47 y/o M) Whitman, Massachusetts DECEASED (67513)\n",
            "12 -- Fredricka415 Matha641 Rosenbaum794 (43 y/o F) Malden, Massachusetts  (62198)\n",
            "10 -- Genaro214 Murphy561 (73 y/o M) Whitman, Massachusetts  (108434)\n",
            "13 -- Dannette613 Darcie474 Jakubowski832 (63 y/o F) Newbury, Massachusetts  (91291)\n",
            "14 -- Rena430 Hedy234 Huel628 (33 y/o F) Colrain, Massachusetts  (47746)\n",
            "16 -- Yong583 Oralia106 Casper496 (36 y/o F) Lawrence, Massachusetts  (53296)\n",
            "15 -- Mohammed454 Mueller846 (77 y/o M) Sandwich, Massachusetts  (111871)\n",
            "17 -- Katherina205 Corwin846 (32 y/o F) Barnstable, Massachusetts  (46152)\n",
            "18 -- Delia459 Kathyrn611 Swaniawski813 (65 y/o F) Quincy, Massachusetts  (97121)\n",
            "19 -- Fritz267 Mitchell808 (65 y/o M) Plymouth, Massachusetts  (91081)\n",
            "21 -- Rudolf736 Rohan584 (50 y/o M) Avon, Massachusetts  (71634)\n",
            "20 -- Zackary401 Lehner980 (69 y/o M) Fall River, Massachusetts  (102309)\n",
            "22 -- Lashunda872 Leanna255 Douglas31 (66 y/o F) Taunton, Massachusetts  (98768)\n",
            "23 -- Shalonda324 Lilian665 Schimmel440 (50 y/o F) Westford, Massachusetts  (71448)\n",
            "25 -- Shandra823 Elly836 Schinner682 (63 y/o F) West Springfield, Massachusetts DECEASED (91711)\n",
            "24 -- Elisa944 Mota271 (78 y/o F) Lawrence, Massachusetts DECEASED (113755)\n",
            "24 -- Lucia634 Esperanza675 Gonzales379 (80 y/o F) Lawrence, Massachusetts  (118251)\n",
            "25 -- Lakita48 Cecil300 Christiansen251 (68 y/o F) West Springfield, Massachusetts DECEASED (160830)\n",
            "26 -- Mari763 Thora330 Kirlin939 (30 y/o F) Everett, Massachusetts  (43631)\n",
            "27 -- Korey682 Howell947 (40 y/o M) Springfield, Massachusetts  (59086)\n",
            "25 -- Robert854 Signe792 Metz686 (76 y/o F) West Springfield, Massachusetts  (114278)\n",
            "28 -- Kandi717 Tran115 Doyle959 (43 y/o F) Scituate, Massachusetts  (61787)\n",
            "30 -- Towanda270 Darla154 Bartoletti50 (54 y/o F) Boston, Massachusetts  (79034)\n",
            "29 -- Lia388 Rosenbaum794 (70 y/o F) Amherst Center, Massachusetts  (134277)\n",
            "31 -- Noah480 Weber641 (39 y/o M) Billerica, Massachusetts  (54374)\n",
            "Waiting for threads to finish... java.util.concurrent.ThreadPoolExecutor@15c6027d[Shutting down, pool size = 2, active threads = 2, queued tasks = 67, completed tasks = 31]\n",
            "32 -- Colton403 Gislason620 (49 y/o M) Somerville, Massachusetts  (68082)\n",
            "33 -- Marc757 Batz141 (40 y/o M) Groton, Massachusetts  (55914)\n",
            "34 -- Rey54 Treutel973 (34 y/o M) Boston, Massachusetts  (48332)\n",
            "35 -- Marcela739 Lozano749 (64 y/o F) Lynn, Massachusetts  (93198)\n",
            "36 -- Jc393 Leffler128 (67 y/o M) Boston, Massachusetts  (97086)\n",
            "38 -- Rosalva540 Yundt842 (32 y/o F) Medfield, Massachusetts  (45703)\n",
            "37 -- Miguel Ángel46 Robles531 (66 y/o M) Lowell, Massachusetts  (94155)\n",
            "39 -- Juliane376 Maryanna659 Gleichner915 (73 y/o F) Southampton, Massachusetts  (105112)\n",
            "40 -- Kristina583 Joi660 Labadie908 (62 y/o F) Waltham, Massachusetts  (89012)\n",
            "41 -- María del Carmen27 Inés791 Tejeda887 (57 y/o F) Worcester, Massachusetts  (81441)\n",
            "42 -- Kirsten270 Santana368 Brakus656 (79 y/o F) Weymouth, Massachusetts  (117255)\n",
            "43 -- Romaine793 Waters156 (79 y/o F) Edgartown, Massachusetts  (113216)\n",
            "44 -- Jenna662 Hane680 (51 y/o F) Chesterfield, Massachusetts  (72415)\n",
            "45 -- Ryan260 Swaniawski813 (52 y/o M) Ashburnham, Massachusetts  (76565)\n",
            "47 -- Ernest565 Gorczany269 (57 y/o M) Somerville, Massachusetts  (79871)\n",
            "46 -- Concepción765 María del Carmen27 Salcedo309 (77 y/o F) Rockport, Massachusetts  (156553)\n",
            "48 -- Norman647 Christiansen251 (60 y/o M) Northborough, Massachusetts  (85219)\n",
            "49 -- Adolfo777 Jaskolski867 (43 y/o M) Westfield, Massachusetts  (62274)\n",
            "50 -- Augustine565 Bauch723 (83 y/o M) Gloucester, Massachusetts  (118990)\n",
            "51 -- Neil122 Littel644 (68 y/o M) Malden, Massachusetts  (97883)\n",
            "52 -- Rupert654 Lebsack687 (83 y/o M) Boston, Massachusetts  (120564)\n",
            "53 -- Chantelle310 Schmeler639 (66 y/o F) Rehoboth, Massachusetts  (98365)\n",
            "54 -- Jimmie93 Willms744 (60 y/o M) Chicopee, Massachusetts  (90255)\n",
            "55 -- Barbara209 Leonor133 Bustamante966 (50 y/o F) Gardner, Massachusetts  (71523)\n",
            "56 -- Tobias236 Walsh511 (61 y/o M) Walpole, Massachusetts  (85241)\n",
            "57 -- Helena807 Stracke611 (57 y/o F) Fall River, Massachusetts  (86203)\n",
            "58 -- Francesco636 Weber641 (66 y/o M) Braintree, Massachusetts  (97312)\n",
            "59 -- Stanley702 Terry864 (45 y/o M) Boston, Massachusetts  (71524)\n",
            "60 -- Bo157 Armstrong51 (84 y/o M) Dartmouth, Massachusetts  (119666)\n",
            "61 -- Maud851 Jenine75 Gutmann970 (74 y/o F) Springfield, Massachusetts DECEASED (109804)\n",
            "62 -- Lovetta319 Denesik803 (57 y/o F) Hopkinton, Massachusetts DECEASED (82629)\n",
            "61 -- Eliz744 Theodora872 Gulgowski816 (76 y/o F) Springfield, Massachusetts  (123572)\n",
            "62 -- Lizzette325 Christa452 Willms744 (55 y/o F) Hopkinton, Massachusetts DECEASED (80095)\n",
            "63 -- Randell912 Murphy561 (53 y/o M) Weston, Massachusetts  (76196)\n",
            "62 -- Hue920 Carlita746 Balistreri607 (59 y/o F) Hopkinton, Massachusetts  (83421)\n",
            "64 -- Clair921 Schuster709 (50 y/o M) Hudson, Massachusetts  (70410)\n",
            "65 -- Dagmar148 Krystal150 Feest103 (81 y/o F) Acton, Massachusetts  (120217)\n",
            "66 -- Chester802 Harber290 (64 y/o M) Brewster, Massachusetts  (98037)\n",
            "67 -- Cliff504 Hahn503 (50 y/o M) Lawrence, Massachusetts  (71377)\n",
            "68 -- Aaron697 Grimes165 (34 y/o M) Randolph, Massachusetts  (47189)\n",
            "70 -- Marquitta546 Cathie710 Miller503 (47 y/o F) Hadley, Massachusetts  (68765)\n",
            "69 -- Jesusita936 Hahn503 (66 y/o F) Lynn, Massachusetts  (101275)\n",
            "71 -- Jarred626 Gislason620 (62 y/o M) Newton, Massachusetts DECEASED (87995)\n",
            "72 -- Marcelene872 Brande998 White193 (45 y/o F) West Concord, Massachusetts  (65016)\n",
            "73 -- Clelia416 Vesta905 Kirlin939 (35 y/o F) Winchester, Massachusetts  (51115)\n",
            "71 -- Marcus77 Barrows492 (73 y/o M) Newton, Massachusetts  (134183)\n",
            "75 -- Seth414 Hintz995 (33 y/o M) Lowell, Massachusetts  (45743)\n",
            "74 -- Gilma310 Elisa944 Kuhic920 (83 y/o F) Arlington, Massachusetts  (159276)\n",
            "76 -- Lyle846 Armstrong51 (62 y/o M) Cheshire, Massachusetts DECEASED (124088)\n",
            "77 -- Arica110 Emelia239 Friesen796 (69 y/o F) Malden, Massachusetts  (104009)\n",
            "76 -- Russel238 Romaguera67 (61 y/o M) Cheshire, Massachusetts DECEASED (127503)\n",
            "78 -- Lyman173 Mayer370 (36 y/o M) Maynard, Massachusetts  (49689)\n",
            "79 -- Tabatha105 Kristeen693 Fritsch593 (51 y/o F) Tewksbury, Massachusetts  (73719)\n",
            "80 -- Cory323 Hane680 (31 y/o M) Quincy, Massachusetts  (44708)\n",
            "76 -- Tommie457 Ondricka197 (75 y/o M) Cheshire, Massachusetts  (106678)\n",
            "81 -- Elias404 Erdman779 (57 y/o M) Lawrence, Massachusetts DECEASED (85077)\n",
            "82 -- Azucena377 Juliana372 Hammes673 (44 y/o F) Bridgewater, Massachusetts  (65240)\n",
            "81 -- Darin74 Conn188 (73 y/o M) Lawrence, Massachusetts  (104242)\n",
            "83 -- Alvin56 Rempel203 (62 y/o M) Hopkinton, Massachusetts  (87800)\n",
            "Waiting for threads to finish... java.util.concurrent.ThreadPoolExecutor@15c6027d[Shutting down, pool size = 2, active threads = 2, queued tasks = 15, completed tasks = 83]\n",
            "84 -- Reina25 Carla633 Alemán808 (71 y/o F) Boston, Massachusetts  (103151)\n",
            "85 -- Gwen761 Stefany238 Gutmann970 (42 y/o F) North Westport, Massachusetts  (60886)\n",
            "86 -- Ivory697 Kuhic920 (71 y/o M) Lynn, Massachusetts DECEASED (105153)\n",
            "87 -- Drew592 Mosciski958 (64 y/o M) Winchendon, Massachusetts  (95729)\n",
            "88 -- Starr864 Sierra982 Towne435 (41 y/o F) Braintree, Massachusetts  (59850)\n",
            "86 -- Dick869 Hilpert278 (72 y/o M) Lynn, Massachusetts  (101748)\n",
            "90 -- Birgit199 Odilia72 Corwin846 (45 y/o F) Pepperell, Massachusetts  (65839)\n",
            "89 -- Chadwick722 Schmidt332 (78 y/o M) Everett, Massachusetts DECEASED (138216)\n",
            "91 -- Delois358 Kutch271 (35 y/o F) Sudbury, Massachusetts  (51786)\n",
            "89 -- Neal874 Rodriguez71 (78 y/o M) Everett, Massachusetts  (113982)\n",
            "92 -- Noelle559 Brittani427 Sawayn19 (40 y/o F) Longmeadow, Massachusetts  (79147)\n",
            "93 -- Latoyia537 Cronin387 (37 y/o F) Plymouth, Massachusetts  (53687)\n",
            "94 -- Dewayne363 Greenholt190 (30 y/o M) Plymouth, Massachusetts DECEASED (42262)\n",
            "95 -- Jeramy610 Harvey63 (76 y/o M) Worcester, Massachusetts DECEASED (111791)\n",
            "94 -- Gustavo235 Krajcik437 (61 y/o M) Plymouth, Massachusetts DECEASED (90761)\n",
            "95 -- Kendall673 Grady603 (81 y/o M) Worcester, Massachusetts  (149706)\n",
            "94 -- Robbie31 Hermann103 (72 y/o M) Plymouth, Massachusetts  (106115)\n",
            "97 -- John539 Wiegand701 (38 y/o M) Lexington, Massachusetts  (54721)\n",
            "96 -- Ming325 Vicenta966 Morar593 (77 y/o F) Acton, Massachusetts  (170760)\n",
            "98 -- Samella245 Otelia900 Jakubowski832 (45 y/o F) Plymouth, Massachusetts DECEASED (66708)\n",
            "99 -- Stephani232 Willette878 Kirlin939 (43 y/o F) Wilmington, Massachusetts  (64789)\n",
            "98 -- Johnetta529 Henrietta324 Nader710 (52 y/o F) Plymouth, Massachusetts DECEASED (92338)\n",
            "100 -- Johnny786 Dietrich576 (33 y/o F) Boston, Massachusetts  (52065)\n",
            "98 -- Penney623 Hegmann834 (56 y/o F) Plymouth, Massachusetts  (80229)\n",
            "Records: total=123, alive=100, dead=23\n",
            "RNG=100\n",
            "Clinician RNG=5644\n",
            "\n",
            "Success! Generated 18 CSV files:\n",
            "- careplans.csv\n",
            "- supplies.csv\n",
            "- claims_transactions.csv\n",
            "- encounters.csv\n",
            "- claims.csv\n",
            "\n",
            "Total records across all CSV files: 100 patients\n"
          ]
        }
      ]
    },
    {
      "cell_type": "markdown",
      "metadata": {
        "id": "31h57QhvLBTn"
      },
      "source": [
        "## 1) Creating the spark dataframes"
      ]
    },
    {
      "cell_type": "code",
      "execution_count": 10,
      "metadata": {
        "id": "5iRZ0ROLV0j_",
        "tags": []
      },
      "outputs": [],
      "source": [
        "#setting path to HDFS folder\n",
        "#path = '/synthea_output/'\n",
        "\n",
        "# for using CPU in colab\n",
        "\n",
        "path = '/content/output/csv/'"
      ]
    },
    {
      "cell_type": "code",
      "execution_count": 11,
      "metadata": {
        "id": "7LoWuO7AUH9a",
        "tags": []
      },
      "outputs": [],
      "source": [
        "#Patient files\n",
        "observations = spark.read.csv(path+\"observations.csv\", header=True)\n",
        "patient = spark.read.csv(path+\"patients.csv\", header=True)\n",
        "#Medical files\n",
        "careplans = spark.read.csv(path+\"careplans.csv\", header=True)\n",
        "conditions = spark.read.csv(path+\"conditions.csv\", header=True)\n",
        "procedures=spark.read.csv(path+\"procedures.csv\", header=True)\n",
        "encounters = spark.read.csv(path+\"encounters.csv\", header=True)\n",
        "medications = spark.read.csv(path+\"medications.csv\", header=True)\n",
        "#Insurance and hospital files\n",
        "payer_transitions=spark.read.csv(path+\"payer_transitions.csv\", header=True)\n",
        "payers=spark.read.csv(path+\"payers.csv\", header=True)\n",
        "providers=spark.read.csv(path+\"providers.csv\", header=True)\n",
        "organizations=spark.read.csv(path+\"organizations.csv\", header=True)"
      ]
    },
    {
      "cell_type": "markdown",
      "metadata": {
        "id": "b6SVApkALBTq"
      },
      "source": [
        "## 3) Cleaning dataframes and renaming variables"
      ]
    },
    {
      "cell_type": "code",
      "execution_count": 12,
      "metadata": {
        "id": "AlZ6m6w-UVRC",
        "tags": []
      },
      "outputs": [],
      "source": [
        "#Renaming columns\n",
        "patient = (\n",
        "    patient.withColumnRenamed(\"Id\", \"patient_id\")\n",
        "           .withColumnRenamed(\"MARITAL\", \"patient_marital\")\n",
        "           .withColumnRenamed(\"RACE\", \"patient_race\")\n",
        "           .withColumnRenamed(\"ETHNICITY\", \"patient_ethnicity\")\n",
        "           .withColumnRenamed(\"GENDER\", \"patient_gender\")\n",
        "           .withColumnRenamed(\"ZIP\", \"patient_zip\")\n",
        ")\n",
        "encounters = (\n",
        "    encounters.withColumnRenamed(\"PATIENT\", \"patient_id\")\n",
        "              .withColumnRenamed(\"Id\", \"encounter_id\")\n",
        "              .withColumnRenamed(\"DESCRIPTION\", \"encounter_discription\")\n",
        "              .withColumnRenamed(\"CODE\", \"encounter_code\")\n",
        "              .withColumnRenamed(\"START\", \"encounter_start\")\n",
        "              .withColumn(\"encounter_start\", to_date(\"encounter_start\"))\n",
        "              .withColumnRenamed(\"STOP\", \"encounter_stop\")\n",
        "              .withColumn(\"encounter_stop\", to_date(\"encounter_stop\"))\n",
        "              .withColumn(\"PATIENT COST\", col(\"TOTAL_CLAIM_COST\") - col(\"PAYER_COVERAGE\"))\n",
        "              .withColumnRenamed(\"PAYER\", \"payer_id\")\n",
        "              .withColumnRenamed(\"ORGANIZATION\", \"organization_id\")\n",
        "              .withColumnRenamed(\"PROVIDER\", \"provider_id\")\n",
        ")\n",
        "careplans = (\n",
        "    careplans.withColumnRenamed(\"PATIENT\", \"patient_id\")\n",
        "             .withColumnRenamed(\"Id\", \"careplan_id\")\n",
        "             .withColumnRenamed(\"ENCOUNTER\", \"encounter_id\")\n",
        "             .withColumnRenamed(\"DESCRIPTION\", \"careplan_descriptions\")\n",
        "             .withColumnRenamed(\"CODE\", \"careplan_code\")\n",
        ")\n",
        "procedures = (\n",
        "    procedures.withColumnRenamed(\"PATIENT\", \"patient_id\")\n",
        "              .withColumnRenamed(\"ENCOUNTER\", \"encounter_id\")\n",
        "              .withColumnRenamed(\"DESCRIPTION\", \"procedure_descriptions\")\n",
        "              .withColumnRenamed(\"CODE\", \"procedure_code\")\n",
        "              .withColumnRenamed(\"DATE\", \"procedure_date\")\n",
        "              .withColumnRenamed(\"BASE_COST\", \"procedure_cost\")\n",
        ")\n",
        "conditions = (\n",
        "    conditions.withColumnRenamed(\"PATIENT\", \"patient_id\")\n",
        "              .withColumnRenamed(\"ENCOUNTER\", \"encounter_id\")\n",
        "              .withColumnRenamed(\"DESCRIPTION\", \"condition_description\")\n",
        "              .withColumnRenamed(\"CODE\", \"condition_code\")\n",
        "              .withColumnRenamed(\"START\", \"condition_start\")\n",
        "              .withColumnRenamed(\"END\", \"condition_end\")\n",
        ")\n",
        "observations = (\n",
        "    observations.withColumnRenamed(\"PATIENT\", \"patient_id\")\n",
        "                .withColumnRenamed(\"ENCOUNTER\", \"encounter_id\")\n",
        "                .withColumnRenamed(\"DATE\", \"observation_date\")\n",
        "                .withColumn(\"observation_date\", to_date(\"observation_date\"))\n",
        "                .withColumn(\"obs_value\", col(\"VALUE\").cast(\"double\"))\n",
        "                .withColumnRenamed(\"CODE\", \"observation_code\")\n",
        "                .withColumnRenamed(\"DESCRIPTION\", \"observation_description\")\n",
        ")\n",
        "medications = (\n",
        "    medications.withColumnRenamed(\"START\", \"medication_start\")\n",
        "               .withColumn(\"medication_start\", to_date(\"medication_start\"))\n",
        "               .withColumnRenamed(\"STOP\", \"medication_stop\")\n",
        "               .withColumn(\"medication_stop\", to_date(\"medication_stop\"))\n",
        "               .withColumnRenamed(\"PATIENT\", \"patient_id\")\n",
        "               .withColumnRenamed(\"PAYER\", \"payer_id\")\n",
        "               .withColumnRenamed(\"ENCOUNTER\", \"encounter_id\")\n",
        "               .withColumnRenamed(\"CODE\", \"medication_code\")\n",
        "               .withColumnRenamed(\"DESCRIPTION\", \"medication_description\")\n",
        ")\n",
        "payer_transitions = (\n",
        "    payer_transitions.withColumnRenamed(\"PATIENT\", \"patient_id\")\n",
        "                     .withColumnRenamed(\"PAYER\", \"payer_id\")\n",
        ")\n",
        "payers = (\n",
        "    payers.withColumnRenamed(\"Id\", \"payer_id\")\n",
        "          .withColumnRenamed(\"NAME\", \"payer_name\")\n",
        "          .withColumnRenamed(\"OWNERSHIP\", \"payer_ownership\")\n",
        ")\n",
        "providers = (\n",
        "    providers.withColumnRenamed(\"Id\", \"provider_id\")\n",
        "             .withColumnRenamed(\"SPECIALITY\", \"provider_specialty\")\n",
        ")\n",
        "organizations = (\n",
        "    organizations.withColumnRenamed(\"Id\", \"organization_id\")\n",
        "                 .withColumnRenamed(\"NAME\", \"organization_name\")\n",
        "                 .withColumnRenamed(\"ZIP\", \"organization_zip\")\n",
        ")\n",
        "organizations = organizations.withColumn(\n",
        "    \"organization_zip\",\n",
        "    col(\"organization_zip\").cast(\"string\")\n",
        ")\n",
        "\n",
        "#adding leading 0's to zip codes to retain their information\n",
        "organizations = organizations.withColumn(\n",
        "    \"organization_zip\",\n",
        "    when(length(col(\"organization_zip\")) == 4,\n",
        "    lpad(col(\"organization_zip\"), 5, \"0\")\n",
        ").otherwise(col(\"organization_zip\")))"
      ]
    },
    {
      "cell_type": "code",
      "execution_count": 13,
      "metadata": {
        "tags": [],
        "id": "rJzY5JL7LBTr"
      },
      "outputs": [],
      "source": [
        "#Merge together dataframes on various id fields that will be used for ML modeling...\n",
        "encounters = (\n",
        "    encounters\n",
        "    .join(payers.select(\"payer_id\", \"payer_name\", \"payer_ownership\"), on=\"payer_id\", how=\"left\")\n",
        "    .join(organizations.select(\"organization_id\", \"organization_name\", \"organization_zip\"), on=\"organization_id\", how=\"left\")\n",
        "    .join(providers.select(\"provider_id\", \"provider_specialty\"), on=\"provider_id\", how=\"left\")\n",
        "    .join(procedures.select(\"encounter_id\", \"procedure_descriptions\", \"procedure_code\"), on=\"encounter_id\", how=\"left\")\n",
        "    .join(patient.select(\"patient_id\", \"BIRTHDATE\", \"patient_marital\", \"patient_race\", \"patient_ethnicity\", \"patient_gender\", \"patient_zip\"), on=\"patient_id\", how=\"left\")\n",
        "    .withColumn(\"age_at_encounter\", floor(datediff(col(\"encounter_start\"), col(\"BIRTHDATE\")) / 365.25))\n",
        ")\n"
      ]
    },
    {
      "cell_type": "code",
      "execution_count": 14,
      "metadata": {
        "colab": {
          "base_uri": "https://localhost:8080/"
        },
        "id": "Wq_Bd8YldnMb",
        "outputId": "8dbb0e50-43ad-44bf-a62d-3416d3d33719",
        "tags": []
      },
      "outputs": [
        {
          "output_type": "stream",
          "name": "stdout",
          "text": [
            "+--------------------+--------------------+--------------------+--------------------+--------------------+---------------+--------------+--------------+--------------+---------------------+-------------------+----------------+--------------+----------+--------------------+------------------+------------+---------------+--------------------+----------------+------------------+----------------------+--------------+----------+---------------+------------+-----------------+--------------+-----------+----------------+\n",
            "|          patient_id|        encounter_id|         provider_id|     organization_id|            payer_id|encounter_start|encounter_stop|ENCOUNTERCLASS|encounter_code|encounter_discription|BASE_ENCOUNTER_COST|TOTAL_CLAIM_COST|PAYER_COVERAGE|REASONCODE|   REASONDESCRIPTION|      PATIENT COST|  payer_name|payer_ownership|   organization_name|organization_zip|provider_specialty|procedure_descriptions|procedure_code| BIRTHDATE|patient_marital|patient_race|patient_ethnicity|patient_gender|patient_zip|age_at_encounter|\n",
            "+--------------------+--------------------+--------------------+--------------------+--------------------+---------------+--------------+--------------+--------------+---------------------+-------------------+----------------+--------------+----------+--------------------+------------------+------------+---------------+--------------------+----------------+------------------+----------------------+--------------+----------+---------------+------------+-----------------+--------------+-----------+----------------+\n",
            "|4113255f-4e35-506...|50c2a3aa-80d8-325...|da38a492-1209-37b...|0d1570ab-371c-389...|e03e23c9-4df1-3eb...|     1994-11-13|    1994-11-13|    ambulatory|     185345009| Encounter for sym...|              85.55|           85.55|          0.00| 446096008|Perennial allergi...|             85.55|NO_INSURANCE|   NO_INSURANCE|TUFTS MEDICAL CEN...|       021111552|  GENERAL PRACTICE|                  NULL|          NULL|1989-08-03|              D|       black|      nonhispanic|             F|      02130|               5|\n",
            "|4113255f-4e35-506...|5e6bbca4-b818-271...|da38a492-1209-37b...|0d1570ab-371c-389...|e03e23c9-4df1-3eb...|     1994-11-21|    1994-11-21|    ambulatory|     185347001| Encounter for pro...|              85.55|          516.95|          0.00| 609328004|Allergic disposit...|            516.95|NO_INSURANCE|   NO_INSURANCE|TUFTS MEDICAL CEN...|       021111552|  GENERAL PRACTICE|                  NULL|          NULL|1989-08-03|              D|       black|      nonhispanic|             F|      02130|               5|\n",
            "|4113255f-4e35-506...|4058b150-741d-dd6...|87c197d2-567f-357...|c0719377-d40a-3e9...|8fa6c185-e44e-3e3...|     2007-10-04|    2007-10-04|      wellness|     162673000| General examinati...|             136.80|          704.20|          0.00|      NULL|                NULL|             704.2|Cigna Health|        PRIVATE|CARBON HEALTH PRI...|       021101218|  GENERAL PRACTICE|                  NULL|          NULL|1989-08-03|              D|       black|      nonhispanic|             F|      02130|              18|\n",
            "|4113255f-4e35-506...|8bea7ed0-0ff1-416...|87c197d2-567f-357...|c0719377-d40a-3e9...|8fa6c185-e44e-3e3...|     2008-10-09|    2008-10-09|      wellness|     162673000| General examinati...|             136.80|         1567.00|          0.00|      NULL|                NULL|            1567.0|Cigna Health|        PRIVATE|CARBON HEALTH PRI...|       021101218|  GENERAL PRACTICE|                  NULL|          NULL|1989-08-03|              D|       black|      nonhispanic|             F|      02130|              19|\n",
            "|4113255f-4e35-506...|57e11cd3-2ffc-dd0...|da38a492-1209-37b...|0d1570ab-371c-389...|8fa6c185-e44e-3e3...|     2008-11-13|    2008-11-18|     inpatient|     185347001| Encounter for pro...|              87.71|         5423.98|       3796.79|  74400008|Appendicitis (dis...|1627.1899999999996|Cigna Health|        PRIVATE|TUFTS MEDICAL CEN...|       021111552|  GENERAL PRACTICE|                  NULL|          NULL|1989-08-03|              D|       black|      nonhispanic|             F|      02130|              19|\n",
            "+--------------------+--------------------+--------------------+--------------------+--------------------+---------------+--------------+--------------+--------------+---------------------+-------------------+----------------+--------------+----------+--------------------+------------------+------------+---------------+--------------------+----------------+------------------+----------------------+--------------+----------+---------------+------------+-----------------+--------------+-----------+----------------+\n",
            "only showing top 5 rows\n",
            "\n"
          ]
        }
      ],
      "source": [
        "encounters.show(5)"
      ]
    },
    {
      "cell_type": "code",
      "execution_count": 15,
      "metadata": {
        "id": "2mNaI6flhLXz",
        "tags": [],
        "colab": {
          "base_uri": "https://localhost:8080/"
        },
        "outputId": "89b661cc-a521-44a5-8feb-9e772607b430"
      },
      "outputs": [
        {
          "output_type": "execute_result",
          "data": {
            "text/plain": [
              "['patient_id',\n",
              " 'encounter_id',\n",
              " 'provider_id',\n",
              " 'organization_id',\n",
              " 'payer_id',\n",
              " 'encounter_start',\n",
              " 'encounter_stop',\n",
              " 'ENCOUNTERCLASS',\n",
              " 'encounter_code',\n",
              " 'encounter_discription',\n",
              " 'BASE_ENCOUNTER_COST',\n",
              " 'TOTAL_CLAIM_COST',\n",
              " 'PAYER_COVERAGE',\n",
              " 'REASONCODE',\n",
              " 'REASONDESCRIPTION',\n",
              " 'PATIENT COST',\n",
              " 'payer_name',\n",
              " 'payer_ownership',\n",
              " 'organization_name',\n",
              " 'organization_zip',\n",
              " 'provider_specialty',\n",
              " 'procedure_descriptions',\n",
              " 'procedure_code',\n",
              " 'BIRTHDATE',\n",
              " 'patient_marital',\n",
              " 'patient_race',\n",
              " 'patient_ethnicity',\n",
              " 'patient_gender',\n",
              " 'patient_zip',\n",
              " 'age_at_encounter']"
            ]
          },
          "metadata": {},
          "execution_count": 15
        }
      ],
      "source": [
        "encounters.columns"
      ]
    },
    {
      "cell_type": "code",
      "source": [
        "patient.count()"
      ],
      "metadata": {
        "colab": {
          "base_uri": "https://localhost:8080/"
        },
        "id": "dwXDRMdCnWQ0",
        "outputId": "31ce359c-f970-489d-9418-0934a815904b"
      },
      "execution_count": 21,
      "outputs": [
        {
          "output_type": "execute_result",
          "data": {
            "text/plain": [
              "123"
            ]
          },
          "metadata": {},
          "execution_count": 21
        }
      ]
    },
    {
      "cell_type": "code",
      "source": [
        "encounters.count()"
      ],
      "metadata": {
        "colab": {
          "base_uri": "https://localhost:8080/"
        },
        "id": "e-J2nEjvrAqv",
        "outputId": "c0b90f2b-4e56-4f28-a578-bc28d9fe75bc"
      },
      "execution_count": 22,
      "outputs": [
        {
          "output_type": "execute_result",
          "data": {
            "text/plain": [
              "27607"
            ]
          },
          "metadata": {},
          "execution_count": 22
        }
      ]
    },
    {
      "cell_type": "markdown",
      "metadata": {
        "id": "cqkLXZMiLBTu"
      },
      "source": [
        "## Preparing Data"
      ]
    },
    {
      "cell_type": "code",
      "execution_count": 17,
      "metadata": {
        "id": "V88SXlyeLBTu"
      },
      "outputs": [],
      "source": [
        "modeling_df = encounters.select(\n",
        "    col(\"PATIENT COST\").cast(\"double\").alias(\"label\"),\n",
        "    col(\"age_at_encounter\").cast(\"double\"),\n",
        "    col(\"patient_marital\"),\n",
        "    col(\"patient_race\"),\n",
        "    col(\"patient_ethnicity\"),\n",
        "    col(\"patient_gender\"),\n",
        "    col(\"ENCOUNTERCLASS\"),\n",
        "    col(\"payer_ownership\"),\n",
        "    col(\"payer_name\"),\n",
        "    col(\"organization_zip\"),\n",
        "    col(\"organization_name\"),\n",
        "    col(\"procedure_code\"),\n",
        "    #col(\"encounter_discription\"), # don't use for RF, LR and GBT models\n",
        "    col(\"encounter_code\"),\n",
        "    #col(\"REASONDESCRIPTION\"), # don't use for RF, LR and GBT models\n",
        ").na.drop().filter(col(\"PATIENT COST\") != 0)\n",
        "\n",
        "\n",
        "#define categorical and numeric columns\n",
        "categorical_cols = ['patient_marital', 'patient_race', 'patient_ethnicity',\n",
        "                   'patient_gender', 'ENCOUNTERCLASS',\n",
        "                   'payer_ownership',\"payer_name\",\"organization_name\", \"organization_zip\", 'procedure_code',\"encounter_code\"]\n",
        "numeric_cols = ['age_at_encounter']\n",
        "\n",
        "target_col = \"label\"\n",
        "\n",
        "#create feature engineering pipeline stages\n",
        "indexers = [StringIndexer(inputCol=col, outputCol=col+\"_index\", handleInvalid=\"keep\")\n",
        "            for col in categorical_cols]\n",
        "\n",
        "encoder = OneHotEncoder(\n",
        "    inputCols=[col+\"_index\" for col in categorical_cols],\n",
        "    outputCols=[col+\"_encoded\" for col in categorical_cols],\n",
        "    dropLast=True\n",
        ")\n",
        "\n",
        "assembler = VectorAssembler(\n",
        "    inputCols=numeric_cols + [col+\"_encoded\" for col in categorical_cols],\n",
        "    outputCol=\"features\"\n",
        ")\n",
        "\n",
        "#cache after feature engineering\n",
        "feature_pipeline = Pipeline(stages=indexers + [encoder, assembler])\n",
        "feature_model = feature_pipeline.fit(modeling_df)\n",
        "feature_df = feature_model.transform(modeling_df).select(\"features\", target_col).cache()"
      ]
    },
    {
      "cell_type": "code",
      "execution_count": 19,
      "metadata": {
        "colab": {
          "base_uri": "https://localhost:8080/"
        },
        "id": "xSru6SVWLBTv",
        "outputId": "17f5e277-0ee2-4543-cfd6-4d6ce6ce2945"
      },
      "outputs": [
        {
          "output_type": "stream",
          "name": "stdout",
          "text": [
            "Data splitting executed in 0.04 seconds\n"
          ]
        },
        {
          "output_type": "execute_result",
          "data": {
            "text/plain": [
              "1"
            ]
          },
          "metadata": {},
          "execution_count": 19
        }
      ],
      "source": [
        "#Splitting training and test dataframes nd present the number of partitions of the training dataframe\n",
        "train_df, test_df = time_execution(\n",
        "    \"Data splitting\",\n",
        "    lambda: feature_df.randomSplit([0.8, 0.2], seed=53)\n",
        ")[0]\n",
        "train_df.rdd.getNumPartitions()"
      ]
    },
    {
      "cell_type": "code",
      "execution_count": 30,
      "metadata": {
        "colab": {
          "base_uri": "https://localhost:8080/"
        },
        "id": "1OQ4jORCLBTv",
        "outputId": "12293e31-e090-46a2-b9f5-95b0ad440d82"
      },
      "outputs": [
        {
          "output_type": "stream",
          "name": "stdout",
          "text": [
            "Training Data Partitions: 12\n"
          ]
        }
      ],
      "source": [
        "#repartition data to distribute it across the cluster - only in GCP\n",
        "train_df = train_df.repartition(12)\n",
        "print(f\"Training Data Partitions: {train_df.rdd.getNumPartitions()}\")"
      ]
    },
    {
      "cell_type": "markdown",
      "metadata": {
        "id": "IFvgZHK2LBTv"
      },
      "source": [
        "## Random Forest Model"
      ]
    },
    {
      "cell_type": "code",
      "execution_count": 31,
      "metadata": {
        "colab": {
          "base_uri": "https://localhost:8080/"
        },
        "id": "BrJE6bFNLBTv",
        "outputId": "02ca2ce5-d1fc-4d73-8c88-19105a4b50ec"
      },
      "outputs": [
        {
          "output_type": "stream",
          "name": "stdout",
          "text": [
            "Random Forest training executed in 19.10 seconds\n",
            "Random Forest Regression Results:\n",
            "RMSE: 2065.6919852673072\n",
            "R2: 0.5606392676844362\n"
          ]
        }
      ],
      "source": [
        "#Random Forest\n",
        "#common evaluator for regression tasks\n",
        "reg_evaluator = RegressionEvaluator(labelCol=\"label\", predictionCol=\"prediction\")\n",
        "\n",
        "rf = RandomForestRegressor(\n",
        "    featuresCol=\"features\",\n",
        "    labelCol=\"label\",\n",
        "    numTrees=30,  # Reduced for initial testing\n",
        "    maxDepth=10,\n",
        "    subsamplingRate=0.7,\n",
        "    featureSubsetStrategy='sqrt',\n",
        "    seed=42\n",
        ")\n",
        "\n",
        "rf_model, rf_time = time_execution(\n",
        "    \"Random Forest training\",\n",
        "    lambda: rf.fit(train_df)\n",
        ")\n",
        "\n",
        "rf_predictions = rf_model.transform(test_df)\n",
        "\n",
        "\n",
        "print(\"Random Forest Regression Results:\")\n",
        "print(\"RMSE:\", reg_evaluator.evaluate(rf_predictions, {reg_evaluator.metricName: \"rmse\"}))\n",
        "print(\"R2:\", reg_evaluator.evaluate(rf_predictions, {reg_evaluator.metricName: \"r2\"}))"
      ]
    },
    {
      "cell_type": "code",
      "execution_count": 32,
      "metadata": {
        "colab": {
          "base_uri": "https://localhost:8080/"
        },
        "id": "xBzujN66LBTw",
        "outputId": "986ad056-925b-4454-c73b-714c46f85572"
      },
      "outputs": [
        {
          "output_type": "stream",
          "name": "stdout",
          "text": [
            "+--------------------+------------------+------------------+\n",
            "|            features|             label|        prediction|\n",
            "+--------------------+------------------+------------------+\n",
            "|(772,[0,1,5,10,12...|            159.11|1056.6596846971015|\n",
            "|(772,[0,1,5,10,12...|            366.88|1056.6596846971015|\n",
            "|(772,[0,1,5,10,12...|            366.88| 1075.774969015747|\n",
            "|(772,[0,1,5,10,12...| 966.1899999999996| 951.4431662587205|\n",
            "|(772,[0,1,5,10,12...| 966.1899999999996| 951.4431662587205|\n",
            "|(772,[0,1,5,10,12...| 621.0699999999997| 951.4431662587205|\n",
            "|(772,[0,1,5,10,12...| 621.0699999999997| 972.0125721108092|\n",
            "|(772,[0,1,5,10,12...| 966.1899999999996| 951.4431662587205|\n",
            "|(772,[0,1,5,10,12...|1214.0899999999997| 972.0125721108092|\n",
            "|(772,[0,1,5,10,12...|           3785.16|1014.2827314984464|\n",
            "|(772,[0,1,5,10,12...| 966.1899999999996| 951.4431662587205|\n",
            "|(772,[0,1,5,10,12...|             35.78| 951.4431662587205|\n",
            "|(772,[0,1,5,10,12...| 707.3499999999999| 951.4431662587205|\n",
            "|(772,[0,1,5,10,12...|            534.79| 960.7751094385819|\n",
            "|(772,[0,1,5,10,12...| 707.3499999999999| 960.7751094385819|\n",
            "|(772,[0,1,5,10,12...| 621.0699999999997| 960.7751094385819|\n",
            "|(772,[0,1,5,10,12...|1052.4700000000003| 951.4431662587205|\n",
            "|(772,[0,1,5,10,12...| 621.0699999999997| 951.4431662587205|\n",
            "|(772,[0,1,5,10,12...|            534.79| 960.7751094385819|\n",
            "|(772,[0,1,5,10,12...|            534.79| 960.7751094385819|\n",
            "+--------------------+------------------+------------------+\n",
            "only showing top 20 rows\n",
            "\n"
          ]
        }
      ],
      "source": [
        "rf_predictions.show(20)"
      ]
    },
    {
      "cell_type": "markdown",
      "metadata": {
        "id": "D4Ad-a3DLBTw"
      },
      "source": [
        "## Linear Regression Model"
      ]
    },
    {
      "cell_type": "code",
      "execution_count": 33,
      "metadata": {
        "colab": {
          "base_uri": "https://localhost:8080/"
        },
        "id": "Rf404ZKXLBTw",
        "outputId": "8aa565f5-fecc-4e4d-9452-b9afbd5ab727"
      },
      "outputs": [
        {
          "output_type": "stream",
          "name": "stdout",
          "text": [
            "Linear Regression training executed in 4.25 seconds\n",
            "\n",
            "Linear Regression Results:\n",
            "RMSE: 1376.1755848398639\n",
            "R2: 0.8049985648240643\n"
          ]
        }
      ],
      "source": [
        "#Linear Regression\n",
        "lr = LinearRegression(\n",
        "    featuresCol=\"features\",\n",
        "    labelCol=\"label\",\n",
        "    regParam=0.01,\n",
        "    elasticNetParam=0.5\n",
        ")\n",
        "\n",
        "lr_model, lr_time = time_execution(\n",
        "    \"Linear Regression training\",\n",
        "    lambda: lr.fit(train_df)\n",
        ")\n",
        "\n",
        "lr_predictions = lr_model.transform(test_df)\n",
        "\n",
        "print(\"\\nLinear Regression Results:\")\n",
        "print(\"RMSE:\", reg_evaluator.evaluate(lr_predictions, {reg_evaluator.metricName: \"rmse\"}))\n",
        "print(\"R2:\", reg_evaluator.evaluate(lr_predictions, {reg_evaluator.metricName: \"r2\"}))\n"
      ]
    },
    {
      "cell_type": "code",
      "execution_count": 34,
      "metadata": {
        "colab": {
          "base_uri": "https://localhost:8080/"
        },
        "id": "ZTRJwmyGLBTw",
        "outputId": "1abc2816-f472-4a90-bb47-c2579c732450"
      },
      "outputs": [
        {
          "output_type": "stream",
          "name": "stdout",
          "text": [
            "+--------------------+------------------+-------------------+\n",
            "|            features|             label|         prediction|\n",
            "+--------------------+------------------+-------------------+\n",
            "|(772,[0,1,5,10,12...|            159.11|  1053.190380140531|\n",
            "|(772,[0,1,5,10,12...|            366.88| 1057.2223397885036|\n",
            "|(772,[0,1,5,10,12...|            366.88|  867.9964205616278|\n",
            "|(772,[0,1,5,10,12...| 966.1899999999996| 1170.3497475843376|\n",
            "|(772,[0,1,5,10,12...| 966.1899999999996| 1133.5501313059895|\n",
            "|(772,[0,1,5,10,12...| 621.0699999999997| 1139.5929206671872|\n",
            "|(772,[0,1,5,10,12...| 621.0699999999997| 1219.4545367742026|\n",
            "|(772,[0,1,5,10,12...| 966.1899999999996| 1313.5499807117208|\n",
            "|(772,[0,1,5,10,12...|1214.0899999999997| 3546.4659981682603|\n",
            "|(772,[0,1,5,10,12...|           3785.16|  3556.545897288191|\n",
            "|(772,[0,1,5,10,12...| 966.1899999999996| 1262.1701812251067|\n",
            "|(772,[0,1,5,10,12...|             35.78|-331.25411736921114|\n",
            "|(772,[0,1,5,10,12...| 707.3499999999999|  791.8390873772562|\n",
            "|(772,[0,1,5,10,12...|            534.79|  801.9189864971871|\n",
            "|(772,[0,1,5,10,12...| 707.3499999999999|  769.1513298668114|\n",
            "|(772,[0,1,5,10,12...| 621.0699999999997|  743.9328845810859|\n",
            "|(772,[0,1,5,10,12...|1052.4700000000003|  748.5734281611027|\n",
            "|(772,[0,1,5,10,12...| 621.0699999999997|  750.5894079850889|\n",
            "|(772,[0,1,5,10,12...|            534.79|  756.6373474570474|\n",
            "|(772,[0,1,5,10,12...|            534.79|  758.6533272810337|\n",
            "+--------------------+------------------+-------------------+\n",
            "only showing top 20 rows\n",
            "\n"
          ]
        }
      ],
      "source": [
        "lr_predictions.show(20)"
      ]
    },
    {
      "cell_type": "markdown",
      "metadata": {
        "id": "dT6WoEIQLBTw"
      },
      "source": [
        "## Gradient Boosted Tree Model"
      ]
    },
    {
      "cell_type": "code",
      "execution_count": 35,
      "metadata": {
        "colab": {
          "base_uri": "https://localhost:8080/"
        },
        "id": "p6nx7cxMLBTx",
        "outputId": "349f8aa8-3b7f-400c-9a43-05d3410baeb2"
      },
      "outputs": [
        {
          "output_type": "stream",
          "name": "stdout",
          "text": [
            "GBT training executed in 166.57 seconds\n",
            "\n",
            "GBT Regression Results:\n",
            "RMSE: 753.9394982940056\n",
            "R2: 0.9414720782767539\n"
          ]
        }
      ],
      "source": [
        "#Gradient Boosted Trees Regressor\n",
        "gbt = GBTRegressor(\n",
        "    featuresCol=\"features\",\n",
        "    labelCol=\"label\",\n",
        "    maxIter=20,  # Reduced iterations\n",
        "    maxDepth=10,\n",
        "    stepSize=0.1,\n",
        "    subsamplingRate=0.7,\n",
        "    seed=42\n",
        ")\n",
        "\n",
        "gbt_model, gbt_time = time_execution(\n",
        "    \"GBT training\",\n",
        "    lambda: gbt.fit(train_df)\n",
        ")\n",
        "\n",
        "gbt_predictions = gbt_model.transform(test_df)\n",
        "\n",
        "print(\"\\nGBT Regression Results:\")\n",
        "print(\"RMSE:\", reg_evaluator.evaluate(gbt_predictions, {reg_evaluator.metricName: \"rmse\"}))\n",
        "print(\"R2:\", reg_evaluator.evaluate(gbt_predictions, {reg_evaluator.metricName: \"r2\"}))"
      ]
    },
    {
      "cell_type": "code",
      "execution_count": 36,
      "metadata": {
        "colab": {
          "base_uri": "https://localhost:8080/"
        },
        "id": "FF6tMRDOLBTx",
        "outputId": "6b570b2f-f06e-4720-93d6-88cb8cc8daea"
      },
      "outputs": [
        {
          "output_type": "stream",
          "name": "stdout",
          "text": [
            "+--------------------+------------------+------------------+\n",
            "|            features|             label|        prediction|\n",
            "+--------------------+------------------+------------------+\n",
            "|(772,[0,1,5,10,12...|            159.11|308.72660710057716|\n",
            "|(772,[0,1,5,10,12...|            366.88|308.72660710057716|\n",
            "|(772,[0,1,5,10,12...|            366.88|308.72660710057716|\n",
            "|(772,[0,1,5,10,12...| 966.1899999999996| 716.7576718266738|\n",
            "|(772,[0,1,5,10,12...| 966.1899999999996| 716.7576718266738|\n",
            "|(772,[0,1,5,10,12...| 621.0699999999997| 671.7438589028733|\n",
            "|(772,[0,1,5,10,12...| 621.0699999999997| 670.0519120891942|\n",
            "|(772,[0,1,5,10,12...| 966.1899999999996| 716.7576718266738|\n",
            "|(772,[0,1,5,10,12...|1214.0899999999997| 2353.115421521892|\n",
            "|(772,[0,1,5,10,12...|           3785.16| 2582.363173891127|\n",
            "|(772,[0,1,5,10,12...| 966.1899999999996| 716.7576718266738|\n",
            "|(772,[0,1,5,10,12...|             35.78| 353.3470183047824|\n",
            "|(772,[0,1,5,10,12...| 707.3499999999999| 675.9594316838468|\n",
            "|(772,[0,1,5,10,12...|            534.79| 675.9594316838468|\n",
            "|(772,[0,1,5,10,12...| 707.3499999999999| 675.9594316838468|\n",
            "|(772,[0,1,5,10,12...| 621.0699999999997| 675.9594316838468|\n",
            "|(772,[0,1,5,10,12...|1052.4700000000003| 675.9594316838468|\n",
            "|(772,[0,1,5,10,12...| 621.0699999999997| 675.9594316838468|\n",
            "|(772,[0,1,5,10,12...|            534.79| 675.9594316838468|\n",
            "|(772,[0,1,5,10,12...|            534.79| 675.9594316838468|\n",
            "+--------------------+------------------+------------------+\n",
            "only showing top 20 rows\n",
            "\n"
          ]
        }
      ],
      "source": [
        "gbt_predictions.show(20)"
      ]
    },
    {
      "cell_type": "markdown",
      "metadata": {
        "id": "PWwK7EOtLBTx"
      },
      "source": [
        "## Ensemble of ML Models"
      ]
    },
    {
      "cell_type": "code",
      "execution_count": 39,
      "metadata": {
        "colab": {
          "base_uri": "https://localhost:8080/"
        },
        "id": "Mj5iKqDTLBTx",
        "outputId": "fe379941-8212-4bfd-9bd4-d3fe267b562e"
      },
      "outputs": [
        {
          "output_type": "stream",
          "name": "stdout",
          "text": [
            "Data splitting completed in 0.03 seconds\n",
            "Linear Regression trained in 5.95 seconds\n",
            "Random Forest trained in 32.87 seconds\n",
            "GBT trained in 51.32 seconds\n",
            "Total model training time (parallel): 51.32 seconds\n",
            "Prediction generation completed in 0.45 seconds\n",
            "Prediction joining completed in 0.35 seconds\n",
            "\n",
            "Ensemble Results:\n",
            "RMSE: 1017.64950697458\n",
            "R2: 0.8933682434264739\n",
            "Evaluation completed in 1.27 seconds\n",
            "\n",
            "Total execution time: 53.42 seconds\n"
          ]
        }
      ],
      "source": [
        "# Start total execution timer\n",
        "total_start = time.time()\n",
        "\n",
        "# Split the training data into 3 parts for the 3 models\n",
        "split_start = time.time()\n",
        "rf_df, lr_df, gbt_df = train_df.randomSplit([1.0, 1.0, 1.0], seed=42)\n",
        "split_time = time.time() - split_start\n",
        "print(f\"Data splitting completed in {split_time:.2f} seconds\")\n",
        "\n",
        "# Define model training functions\n",
        "def train_rf():\n",
        "    start = time.time()\n",
        "    rf = RandomForestRegressor(featuresCol=\"features\", labelCol=\"label\", numTrees=30, maxDepth=10, seed=42)\n",
        "    model = rf.fit(rf_df)\n",
        "    print(f\"Random Forest trained in {time.time() - start:.2f} seconds\")\n",
        "    return model\n",
        "\n",
        "def train_lr():\n",
        "    start = time.time()\n",
        "    lr = LinearRegression(featuresCol=\"features\", labelCol=\"label\", regParam=0.01, elasticNetParam=0.5)\n",
        "    model = lr.fit(lr_df)\n",
        "    print(f\"Linear Regression trained in {time.time() - start:.2f} seconds\")\n",
        "    return model\n",
        "\n",
        "def train_gbt():\n",
        "    start = time.time()\n",
        "    gbt = GBTRegressor(featuresCol=\"features\", labelCol=\"label\", maxIter=10, maxDepth=5, stepSize=0.1, seed=42)\n",
        "    model = gbt.fit(gbt_df)\n",
        "    print(f\"GBT trained in {time.time() - start:.2f} seconds\")\n",
        "    return model\n",
        "\n",
        "# Train models in parallel with timing\n",
        "train_start = time.time()\n",
        "with ThreadPoolExecutor() as executor:\n",
        "    rf_future = executor.submit(train_rf)\n",
        "    lr_future = executor.submit(train_lr)\n",
        "    gbt_future = executor.submit(train_gbt)\n",
        "\n",
        "    rf_model = rf_future.result()\n",
        "    lr_model = lr_future.result()\n",
        "    gbt_model = gbt_future.result()\n",
        "train_time = time.time() - train_start\n",
        "print(f\"Total model training time (parallel): {train_time:.2f} seconds\")\n",
        "\n",
        "# Make predictions and add row indices\n",
        "pred_start = time.time()\n",
        "rf_pred = rf_model.transform(test_df).select(\"prediction\", \"label\") \\\n",
        "    .withColumnRenamed(\"prediction\", \"rf_pred\") \\\n",
        "    .withColumn(\"row_idx\", monotonically_increasing_id())\n",
        "\n",
        "lr_pred = lr_model.transform(test_df).select(\"prediction\") \\\n",
        "    .withColumnRenamed(\"prediction\", \"lr_pred\") \\\n",
        "    .withColumn(\"row_idx\", monotonically_increasing_id())\n",
        "\n",
        "gbt_pred = gbt_model.transform(test_df).select(\"prediction\") \\\n",
        "    .withColumnRenamed(\"prediction\", \"gbt_pred\") \\\n",
        "    .withColumn(\"row_idx\", monotonically_increasing_id())\n",
        "pred_time = time.time() - pred_start\n",
        "print(f\"Prediction generation completed in {pred_time:.2f} seconds\")\n",
        "\n",
        "# Join predictions on row index\n",
        "join_start = time.time()\n",
        "ensemble_df = rf_pred \\\n",
        "    .join(lr_pred, on=\"row_idx\") \\\n",
        "    .join(gbt_pred, on=\"row_idx\") \\\n",
        "    .withColumn(\"ensemble_prediction\", expr(\"(rf_pred + lr_pred + gbt_pred)/3\"))\n",
        "join_time = time.time() - join_start\n",
        "print(f\"Prediction joining completed in {join_time:.2f} seconds\")\n",
        "\n",
        "# Evaluate ensemble\n",
        "eval_start = time.time()\n",
        "reg_evaluator = RegressionEvaluator(labelCol=\"label\", predictionCol=\"ensemble_prediction\")\n",
        "\n",
        "print(\"\\nEnsemble Results:\")\n",
        "print(\"RMSE:\", reg_evaluator.evaluate(ensemble_df, {reg_evaluator.metricName: \"rmse\"}))\n",
        "print(\"R2:\", reg_evaluator.evaluate(ensemble_df, {reg_evaluator.metricName: \"r2\"}))\n",
        "eval_time = time.time() - eval_start\n",
        "print(f\"Evaluation completed in {eval_time:.2f} seconds\")\n",
        "\n",
        "# Total execution time\n",
        "total_time = time.time() - total_start\n",
        "print(f\"\\nTotal execution time: {total_time:.2f} seconds\")"
      ]
    },
    {
      "cell_type": "code",
      "execution_count": 40,
      "metadata": {
        "colab": {
          "base_uri": "https://localhost:8080/"
        },
        "id": "tlc6TrNzLBTx",
        "outputId": "ea51dcb5-028f-4126-f719-dfb6332b73c7"
      },
      "outputs": [
        {
          "output_type": "stream",
          "name": "stdout",
          "text": [
            "+-------+-----------------+------------------+------------------+------------------+-------------------+\n",
            "|row_idx|          rf_pred|             label|           lr_pred|          gbt_pred|ensemble_prediction|\n",
            "+-------+-----------------+------------------+------------------+------------------+-------------------+\n",
            "|      0|549.1465514190207|            159.11|1459.7899504012769| 641.1343049640785|   883.356935594792|\n",
            "|      1|549.1465514190207|            366.88|1472.2208120749153| 641.1343049640785|  887.5005561526715|\n",
            "|      2|549.1465514190207|            366.88| 975.0567226156006| 565.7872453552908|  696.6635064633041|\n",
            "|      3|468.1070799523851| 966.1899999999996|1300.3471160425865| 609.6135401343477|  792.6892453764398|\n",
            "|      4|468.1070799523851| 966.1899999999996|1219.3500321736951| 609.6135401343477|  765.6902174201426|\n",
            "|      5|468.1070799523851| 621.0699999999997|1205.7156134439253| 609.6135401343477|  761.1454111768861|\n",
            "|      6|468.1070799523851| 621.0699999999997|1415.0543191306917| 609.6135401343477|  830.9249797391416|\n",
            "|      7|468.1070799523851| 966.1899999999996| 1090.038032503368| 609.6135401343477|  722.5862175300335|\n",
            "|      8|679.2719704510185|1214.0899999999997|3686.6922553269783|1084.5092516351422| 1816.8244924710464|\n",
            "|      9|679.2719704510185|           3785.16|3717.7694095110755|1084.5092516351422| 1827.1835438657454|\n",
            "|     10|468.1070799523851| 966.1899999999996|1767.0104367011227| 609.6135401343477|  948.2436855959518|\n",
            "|     11|468.1070799523851|             35.78| -526.826860838456| 609.6135401343477| 183.63125308275892|\n",
            "|     12|468.1070799523851| 707.3499999999999| 740.3289435212233| 609.6135401343477|   606.016521202652|\n",
            "|     13|468.1070799523851|            534.79| 771.4060977053203| 609.6135401343477|   616.375572597351|\n",
            "|     14|468.1070799523851| 707.3499999999999| 702.8398755100679| 609.6135401343477|  593.5201651989336|\n",
            "|     15|468.1070799523851| 621.0699999999997|  570.518738254246| 609.6135401343477|  549.4131194469929|\n",
            "|     16|468.1070799523851|1052.4700000000003| 609.0414563990867| 609.6135401343477|  562.2540254952731|\n",
            "|     17|468.1070799523851| 621.0699999999997| 615.2568872359061| 609.6135401343477|  564.3258357742129|\n",
            "|     18|468.1070799523851|            534.79| 633.9031797463642| 609.6135401343477|  570.5412666110324|\n",
            "|     19|468.1070799523851|            534.79| 640.1186105831837| 609.6135401343477|  572.6130768899721|\n",
            "+-------+-----------------+------------------+------------------+------------------+-------------------+\n",
            "only showing top 20 rows\n",
            "\n"
          ]
        }
      ],
      "source": [
        "ensemble_df.show(20)"
      ]
    }
  ],
  "metadata": {
    "colab": {
      "provenance": []
    },
    "kernelspec": {
      "display_name": "PySpark",
      "language": "python",
      "name": "pyspark"
    },
    "language_info": {
      "codemirror_mode": {
        "name": "ipython",
        "version": 3
      },
      "file_extension": ".py",
      "mimetype": "text/x-python",
      "name": "python",
      "nbconvert_exporter": "python",
      "pygments_lexer": "ipython3",
      "version": "3.11.8"
    }
  },
  "nbformat": 4,
  "nbformat_minor": 0
}