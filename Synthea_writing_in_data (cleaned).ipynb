{
 "cells": [
  {
   "cell_type": "code",
   "execution_count": 1,
   "metadata": {
    "id": "WN6uDGMhpXIw"
   },
   "outputs": [],
   "source": [
    "import os\n",
    "import pandas as pd\n",
    "import seaborn as sns"
   ]
  },
  {
   "cell_type": "code",
   "execution_count": 2,
   "metadata": {
    "colab": {
     "base_uri": "https://localhost:8080/"
    },
    "id": "AcARmI8QpXGO",
    "outputId": "731b4251-775e-4758-a0e7-98ab111ad9a5"
   },
   "outputs": [
    {
     "name": "stdout",
     "output_type": "stream",
     "text": [
      "Requirement already satisfied: pyspark in /usr/local/lib/python3.11/dist-packages (3.5.5)\n",
      "Requirement already satisfied: py4j==0.10.9.7 in /usr/local/lib/python3.11/dist-packages (from pyspark) (0.10.9.7)\n"
     ]
    }
   ],
   "source": [
    "!pip install pyspark"
   ]
  },
  {
   "cell_type": "code",
   "execution_count": 3,
   "metadata": {
    "id": "y3mqRk7RpXDd"
   },
   "outputs": [],
   "source": [
    "# standard libraries\n",
    "import pandas as pd\n",
    "import matplotlib.pyplot as plt\n",
    "\n",
    "# PySpark libraries\n",
    "from pyspark.sql import SparkSession\n",
    "import pyspark.sql.functions as sql_f\n",
    "from pyspark.sql.types import *\n",
    "from pyspark.sql.functions import to_date, datediff, floor, col, avg, substring\n",
    "\n",
    "# DL/ML libraries\n",
    "from sklearn.metrics import accuracy_score\n",
    "spark = SparkSession.builder.getOrCreate()\n"
   ]
  },
  {
   "cell_type": "code",
   "execution_count": 4,
   "metadata": {
    "id": "nH7CQZgqUGTg"
   },
   "outputs": [],
   "source": [
    "from pyspark.ml import Pipeline\n",
    "from pyspark.ml.classification import DecisionTreeClassifier\n",
    "from pyspark.ml.feature import StringIndexer, VectorIndexer\n",
    "from pyspark.ml.evaluation import MulticlassClassificationEvaluator\n",
    "from pyspark.sql.functions import unix_timestamp"
   ]
  },
  {
   "cell_type": "markdown",
   "metadata": {
    "id": "tNKp8qk0WPxF"
   },
   "source": [
    "for working in GCP"
   ]
  },
  {
   "cell_type": "code",
   "execution_count": 5,
   "metadata": {
    "id": "UL0wUCGvUIHW"
   },
   "outputs": [],
   "source": [
    "filepath = \"gs://bucket-sum-mg/csv/\""
   ]
  },
  {
   "cell_type": "code",
   "execution_count": 6,
   "metadata": {
    "colab": {
     "base_uri": "https://localhost:8080/"
    },
    "id": "Vp8uMdsPUIE8",
    "outputId": "5e5bc0c3-8954-447b-e248-4bb12470be6b"
   },
   "outputs": [
    {
     "name": "stdout",
     "output_type": "stream",
     "text": [
      "output\tsample_data  synthea-with-dependencies.jar\n"
     ]
    }
   ],
   "source": [
    "!ls"
   ]
  },
  {
   "cell_type": "code",
   "execution_count": 7,
   "metadata": {
    "colab": {
     "base_uri": "https://localhost:8080/"
    },
    "id": "eq-SUwQRUICQ",
    "outputId": "83f4aa47-db1f-498b-9118-8c79d4fbe317"
   },
   "outputs": [
    {
     "name": "stdout",
     "output_type": "stream",
     "text": [
      "/bin/bash: line 1: hadoop: command not found\n",
      "ServiceException: 401 Anonymous caller does not have storage.objects.list access to the Google Cloud Storage bucket. Permission 'storage.objects.list' denied on resource (or it may not exist).\n",
      "CommandException: 1 file/object could not be transferred.\n",
      "/bin/bash: line 1: hadoop: command not found\n"
     ]
    }
   ],
   "source": [
    "!hadoop fs -mkdir -p /csv\n",
    "!gsutil -m cp -r gs://bucket-sum-mg/csv/* .\n",
    "!hadoop fs -put -f *.csv /csv/"
   ]
  },
  {
   "cell_type": "code",
   "execution_count": 8,
   "metadata": {
    "id": "sOnROF2uUH_4"
   },
   "outputs": [],
   "source": [
    "path = \"hdfs://st446-sum-mg-m:8020/csv/\""
   ]
  },
  {
   "cell_type": "markdown",
   "metadata": {},
   "source": [
    "## 1) Loading the data"
   ]
  },
  {
   "cell_type": "code",
   "execution_count": 9,
   "metadata": {
    "colab": {
     "base_uri": "https://localhost:8080/"
    },
    "id": "8C_Xb5wbUnXR",
    "outputId": "3c81c387-8fd0-433b-f624-af05dbbfbfbb"
   },
   "outputs": [
    {
     "name": "stdout",
     "output_type": "stream",
     "text": [
      "✅ Synthea downloaded\n",
      "SLF4J: No SLF4J providers were found.\n",
      "SLF4J: Defaulting to no-operation (NOP) logger implementation\n",
      "SLF4J: See http://www.slf4j.org/codes.html#noProviders for further details.\n",
      "Scanned 88 modules and 152 submodules.\n",
      "Loading submodule modules/allergies/allergy_panel.json\n",
      "Loading submodule modules/allergies/drug_allergy_incidence.json\n",
      "Loading submodule modules/allergies/environmental_allergy_incidence.json\n",
      "Loading submodule modules/allergies/food_allergy_incidence.json\n",
      "Loading submodule modules/allergies/immunotherapy.json\n",
      "Loading submodule modules/allergies/outgrow_env_allergies.json\n",
      "Loading submodule modules/allergies/outgrow_food_allergies.json\n",
      "Loading submodule modules/allergies/severe_allergic_reaction.json\n",
      "Loading submodule modules/anemia/anemia_sub.json\n",
      "Loading submodule modules/breast_cancer/chemotherapy_breast.json\n",
      "Loading submodule modules/breast_cancer/hormone_diagnosis.json\n",
      "Loading submodule modules/breast_cancer/hormonetherapy_breast.json\n",
      "Loading submodule modules/breast_cancer/surgery_therapy_breast.json\n",
      "Loading submodule modules/breast_cancer/tnm_diagnosis.json\n",
      "Loading submodule modules/contraceptives/clear_contraceptive.json\n",
      "Loading submodule modules/contraceptives/female_sterilization.json\n",
      "Loading submodule modules/contraceptives/implant_contraceptive.json\n",
      "Loading submodule modules/contraceptives/injectable_contraceptive.json\n",
      "Loading submodule modules/contraceptives/intrauterine_device.json\n",
      "Loading submodule modules/contraceptives/male_sterilization.json\n",
      "Loading submodule modules/contraceptives/oral_contraceptive.json\n",
      "Loading submodule modules/contraceptives/patch_contraceptive.json\n",
      "Loading submodule modules/contraceptives/ring_contraceptive.json\n",
      "Loading submodule modules/covid19/admission.json\n",
      "Loading submodule modules/covid19/determine_risk.json\n",
      "Loading Lookup Table: covid-19-severity-outcomes.csv\n",
      "Loading Lookup Table: covid-19-survival-outcomes.csv\n",
      "Loading submodule modules/covid19/diagnose_bacterial_infection.json\n",
      "Loading submodule modules/covid19/diagnose_blood_clot.json\n",
      "Loading submodule modules/covid19/end_outcomes.json\n",
      "Loading submodule modules/covid19/end_symptoms.json\n",
      "Loading submodule modules/covid19/infection.json\n",
      "Loading submodule modules/covid19/measurements_daily.json\n",
      "Loading submodule modules/covid19/measurements_frequent.json\n",
      "Loading submodule modules/covid19/measurements_vitals.json\n",
      "Loading submodule modules/covid19/medications.json\n",
      "Loading submodule modules/covid19/nonsurvivor_lab_values.json\n",
      "Loading submodule modules/covid19/outcomes.json\n",
      "Loading submodule modules/covid19/supplies_hospitalization.json\n",
      "Loading submodule modules/covid19/supplies_icu.json\n",
      "Loading submodule modules/covid19/supplies_intubation.json\n",
      "Loading submodule modules/covid19/survivor_lab_values.json\n",
      "Loading submodule modules/covid19/symptoms.json\n",
      "Loading submodule modules/covid19/treat_blood_clot.json\n",
      "Loading submodule modules/dermatitis/early_moderate_eczema_obs.json\n",
      "Loading submodule modules/dermatitis/early_severe_eczema_obs.json\n",
      "Loading submodule modules/dermatitis/mid_moderate_eczema_obs.json\n",
      "Loading submodule modules/dermatitis/mid_severe_eczema_obs.json\n",
      "Loading submodule modules/dermatitis/moderate_cd_obs.json\n",
      "Loading submodule modules/dermatitis/severe_cd_obs.json\n",
      "Loading submodule modules/dme/wheelchair.json\n",
      "Loading submodule modules/dme/wheelchair_end.json\n",
      "Loading submodule modules/encounter/anxiety_screening.json\n",
      "Loading submodule modules/encounter/depression_screening.json\n",
      "Loading submodule modules/encounter/fall_risk_screening.json\n",
      "Loading submodule modules/encounter/hark_screening.json\n",
      "Loading submodule modules/encounter/hospital_basic_labs.json\n",
      "Loading submodule modules/encounter/sdoh_hrsn.json\n",
      "Loading submodule modules/encounter/substance_use_screening.json\n",
      "Loading submodule modules/encounter/vitals.json\n",
      "Loading submodule modules/heart/acs_anticoagulant.json\n",
      "Loading submodule modules/heart/acs_antiplatelet.json\n",
      "Loading submodule modules/heart/acs_arrival_medications.json\n",
      "Loading submodule modules/heart/acs_discharge_meds.json\n",
      "Loading submodule modules/heart/avrr/antithrombotic.json\n",
      "Loading submodule modules/heart/avrr/avrr_referral.json\n",
      "Loading submodule modules/heart/avrr/intraop_meds_blood.json\n",
      "Loading submodule modules/heart/avrr/outcomes.json\n",
      "Loading submodule modules/heart/avrr/preoperative.json\n",
      "Loading submodule modules/heart/avrr/savrr_operation.json\n",
      "Loading submodule modules/heart/avrr/savrr_postop.json\n",
      "Loading submodule modules/heart/avrr/sequence.json\n",
      "Loading submodule modules/heart/cabg/cabg_referral.json\n",
      "Loading submodule modules/heart/cabg/details.json\n",
      "Loading Lookup Table: cabg_details_operative_approach.csv\n",
      "Loading Lookup Table: cabg_details_num_grafts.csv\n",
      "Loading Lookup Table: cabg_details_num_art_cond.csv\n",
      "Loading submodule modules/heart/cabg/icu_meds_devices.json\n",
      "Loading submodule modules/heart/cabg/labs_common.json\n",
      "Loading submodule modules/heart/cabg/operation.json\n",
      "Loading submodule modules/heart/cabg/or_intraop.json\n",
      "Loading submodule modules/heart/cabg/or_labs_meds.json\n",
      "Loading submodule modules/heart/cabg/outcomes.json\n",
      "Loading submodule modules/heart/cabg/postop.json\n",
      "Loading submodule modules/heart/cabg/postop_blood.json\n",
      "Loading submodule modules/heart/cabg/preoperative.json\n",
      "Loading submodule modules/heart/cabg_sequence.json\n",
      "Loading submodule modules/heart/cardiac_labs.json\n",
      "Loading submodule modules/heart/chf_lab_work.json\n",
      "Loading submodule modules/heart/chf_lvad.json\n",
      "Loading submodule modules/heart/chf_meds.json\n",
      "Loading submodule modules/heart/chf_meds_hfmef.json\n",
      "Loading submodule modules/heart/chf_meds_hfref_nyha2.json\n",
      "Loading submodule modules/heart/chf_meds_hfref_nyha3.json\n",
      "Loading submodule modules/heart/chf_meds_hfref_nyha4.json\n",
      "Loading submodule modules/heart/chf_nyha_panel.json\n",
      "Loading submodule modules/heart/chf_transplant.json\n",
      "Loading submodule modules/heart/nsteacs_pathway.json\n",
      "Loading submodule modules/heart/operative_status.json\n",
      "Loading submodule modules/heart/or_blood.json\n",
      "Loading Lookup Table: or_blood_anemia_check.csv\n",
      "Loading Lookup Table: or_blood_platelet_check.csv\n",
      "Loading Lookup Table: or_blood_plasma_check.csv\n",
      "Loading submodule modules/heart/savrepair/operative_status.json\n",
      "Loading submodule modules/heart/savreplace/operative_status.json\n",
      "Loading submodule modules/heart/stemi_fibrinolytic.json\n",
      "Loading submodule modules/heart/stemi_pathway.json\n",
      "Loading submodule modules/heart/tavr/alt_access.json\n",
      "Loading submodule modules/heart/tavr/operation.json\n",
      "Loading submodule modules/heart/tavr/operative_status.json\n",
      "Loading submodule modules/heart/tavr/outcomes.json\n",
      "Loading submodule modules/heart/tavr/postop.json\n",
      "Loading submodule modules/heart/vhd_risks.json\n",
      "Loading submodule modules/hiv/art_sequence.json\n",
      "Loading submodule modules/hiv/art_sequence_1987_1994.json\n",
      "Loading submodule modules/hiv/art_sequence_1995_1996.json\n",
      "Loading submodule modules/hiv/art_sequence_1997_2002.json\n",
      "Loading submodule modules/hiv/art_sequence_2003_2005.json\n",
      "Loading submodule modules/hiv/art_sequence_2006_2014.json\n",
      "Loading submodule modules/hiv/art_sequence_2015.json\n",
      "Loading submodule modules/hiv/hiv_baseline.json\n",
      "Loading submodule modules/hiv/hiv_cd4.json\n",
      "Loading Lookup Table: hiv_stage.csv\n",
      "Loading submodule modules/hiv/hiv_oi_prophylaxis.json\n",
      "Loading submodule modules/hiv/hiv_screening.json\n",
      "Loading submodule modules/hiv/hiv_viral_load.json\n",
      "Loading submodule modules/hiv/stop_all_art_meds.json\n",
      "Loading submodule modules/injuries/broken_jaw.json\n",
      "Loading submodule modules/lung_cancer/lung_cancer_probabilities.json\n",
      "Loading submodule modules/medications/ace_arb.json\n",
      "Loading Lookup Table: ace_arb_ingredient_distribution.csv\n",
      "Loading Lookup Table: ace_arb_amlodipine_benazepril_product_distribution.csv\n",
      "Loading Lookup Table: ace_arb_benazepril_product_distribution.csv\n",
      "Loading Lookup Table: ace_arb_benazepril_hydrochlorothiazide_product_distribution.csv\n",
      "Loading Lookup Table: ace_arb_enalapril_product_distribution.csv\n",
      "Loading Lookup Table: ace_arb_hydrochlorothiazide_lisinopril_product_distribution.csv\n",
      "Loading Lookup Table: ace_arb_hydrochlorothiazide_losartan_product_distribution.csv\n",
      "Loading Lookup Table: ace_arb_hydrochlorothiazide_valsartan_product_distribution.csv\n",
      "Loading Lookup Table: ace_arb_irbesartan_product_distribution.csv\n",
      "Loading Lookup Table: ace_arb_lisinopril_product_distribution.csv\n",
      "Loading Lookup Table: ace_arb_losartan_product_distribution.csv\n",
      "Loading Lookup Table: ace_arb_quinapril_product_distribution.csv\n",
      "Loading Lookup Table: ace_arb_ramipril_product_distribution.csv\n",
      "Loading Lookup Table: ace_arb_sacubitril_valsartan_product_distribution.csv\n",
      "Loading Lookup Table: ace_arb_telmisartan_product_distribution.csv\n",
      "Loading Lookup Table: ace_arb_valsartan_product_distribution.csv\n",
      "Loading submodule modules/medications/beta_blocker.json\n",
      "Loading Lookup Table: beta_blocker_ingredient_distribution.csv\n",
      "Loading Lookup Table: beta_blocker_atenolol_product_distribution.csv\n",
      "Loading Lookup Table: beta_blocker_bisoprolol_product_distribution.csv\n",
      "Loading Lookup Table: beta_blocker_bisoprolol_hydrochlorothiazide_product_distribution.csv\n",
      "Loading Lookup Table: beta_blocker_carvedilol_product_distribution.csv\n",
      "Loading Lookup Table: beta_blocker_labetalol_product_distribution.csv\n",
      "Loading Lookup Table: beta_blocker_metoprolol_product_distribution.csv\n",
      "Loading Lookup Table: beta_blocker_nebivolol_product_distribution.csv\n",
      "Loading Lookup Table: beta_blocker_propranolol_product_distribution.csv\n",
      "Loading submodule modules/medications/ear_infection_antibiotic.json\n",
      "Loading submodule modules/medications/emergency_inhaler.json\n",
      "Loading Lookup Table: emergency_inhaler_ingredient_distribution.csv\n",
      "Loading Lookup Table: emergency_inhaler_albuterol_product_distribution.csv\n",
      "Loading Lookup Table: emergency_inhaler_levalbuterol_product_distribution.csv\n",
      "Loading submodule modules/medications/hypertension_medication.json\n",
      "Loading submodule modules/medications/maintenance_inhaler.json\n",
      "Loading Lookup Table: maintenance_inhaler_ingredient_distribution.csv\n",
      "Loading Lookup Table: maintenance_inhaler_beclomethasone_product_distribution.csv\n",
      "Loading Lookup Table: maintenance_inhaler_budesonide_product_distribution.csv\n",
      "Loading Lookup Table: maintenance_inhaler_fluticasone_product_distribution.csv\n",
      "Loading Lookup Table: maintenance_inhaler_mometasone_product_distribution.csv\n",
      "Loading submodule modules/medications/moderate_opioid_pain_reliever.json\n",
      "Loading submodule modules/medications/otc_antihistamine.json\n",
      "Loading submodule modules/medications/otc_pain_reliever.json\n",
      "Loading submodule modules/medications/statin.json\n",
      "Loading Lookup Table: statin_ingredient_distribution.csv\n",
      "Loading Lookup Table: statin_atorvastatin_product_distribution.csv\n",
      "Loading Lookup Table: statin_ezetimibe_simvastatin_product_distribution.csv\n",
      "Loading Lookup Table: statin_lovastatin_product_distribution.csv\n",
      "Loading Lookup Table: statin_pitavastatin_product_distribution.csv\n",
      "Loading Lookup Table: statin_pravastatin_product_distribution.csv\n",
      "Loading Lookup Table: statin_rosuvastatin_product_distribution.csv\n",
      "Loading Lookup Table: statin_simvastatin_product_distribution.csv\n",
      "Loading submodule modules/medications/strong_opioid_pain_reliever.json\n",
      "Loading submodule modules/metabolic_syndrome/amputations.json\n",
      "Loading submodule modules/metabolic_syndrome/dme_supplies.json\n",
      "Loading submodule modules/metabolic_syndrome/eye_conditions.json\n",
      "Loading submodule modules/metabolic_syndrome/kidney_conditions.json\n",
      "Loading submodule modules/metabolic_syndrome/medications.json\n",
      "Loading submodule modules/snf/skilled_nursing_facility.json\n",
      "Loading submodule modules/surgery/general_anesthesia.json\n",
      "Loading submodule modules/total_joint_replacement/functional_status_assessments.json\n",
      "Loading submodule modules/uti/abx_tx.json\n",
      "Loading submodule modules/uti/ambulatory_eval.json\n",
      "Loading submodule modules/uti/ambulatory_path.json\n",
      "Loading submodule modules/uti/ed_bundle.json\n",
      "Loading submodule modules/uti/ed_eval.json\n",
      "Loading submodule modules/uti/ed_path.json\n",
      "Loading submodule modules/uti/gu_pregnancy_check.json\n",
      "Loading submodule modules/uti/hpi.json\n",
      "Loading submodule modules/uti/lab_follow_up.json\n",
      "Loading submodule modules/uti/labs.json\n",
      "Loading submodule modules/uti/telemed_path.json\n",
      "Loading submodule modules/veterans/veteran_suicide_probabilities.json\n",
      "Loading submodule modules/weight_loss/mend_week.json\n",
      "Loading module modules/acute_myeloid_leukemia.json\n",
      "Loading Lookup Table: AML.csv\n",
      "Loading module modules/allergic_rhinitis.json\n",
      "Loading module modules/allergies.json\n",
      "Loading module modules/anemia___unknown_etiology.json\n",
      "Loading module modules/appendicitis.json\n",
      "Loading module modules/asthma.json\n",
      "Loading module modules/atopy.json\n",
      "Loading module modules/atrial_fibrillation.json\n",
      "Loading module modules/attention_deficit_disorder.json\n",
      "Loading module modules/bone_marrow_transplant.json\n",
      "Loading module modules/breast_cancer.json\n",
      "Loading module modules/bronchitis.json\n",
      "Loading module modules/cerebral_palsy.json\n",
      "Loading module modules/chronic_kidney_disease.json\n",
      "Loading module modules/colorectal_cancer.json\n",
      "Loading module modules/congestive_heart_failure.json\n",
      "Loading module modules/contraceptive_maintenance.json\n",
      "Loading module modules/contraceptives.json\n",
      "Loading module modules/copd.json\n",
      "Loading module modules/covid19.json\n",
      "Loading Lookup Table: covid19_prob.csv\n",
      "Loading module modules/cystic_fibrosis.json\n",
      "Loading module modules/dementia.json\n",
      "Loading module modules/dental_and_oral_examination.json\n",
      "Loading module modules/dentures.json\n",
      "Loading module modules/dermatitis.json\n",
      "Loading module modules/dialysis.json\n",
      "Loading module modules/ear_infections.json\n",
      "Loading module modules/epilepsy.json\n",
      "Loading module modules/female_reproduction.json\n",
      "Loading module modules/fibromyalgia.json\n",
      "Loading module modules/food_allergies.json\n",
      "Loading module modules/gallstones.json\n",
      "Loading module modules/gout.json\n",
      "Loading module modules/hiv_care.json\n",
      "Loading Lookup Table: hiv_care.csv\n",
      "Loading module modules/hiv_diagnosis.json\n",
      "Loading Lookup Table: hiv_mortality_later.csv\n",
      "Loading Lookup Table: hiv_mortality_early.csv\n",
      "Loading Lookup Table: hiv_mortality_very_early.csv\n",
      "Loading Lookup Table: hiv_diagnosis_early.csv\n",
      "Loading Lookup Table: hiv_diagnosis_later.csv\n",
      "Loading module modules/home_health_treatment.json\n",
      "Loading module modules/home_hospice_snf.json\n",
      "Loading module modules/homelessness.json\n",
      "Loading module modules/hospice_treatment.json\n",
      "Loading module modules/hypertension.json\n",
      "Loading module modules/hypothyroidism.json\n",
      "Loading module modules/injuries.json\n",
      "Loading module modules/kidney_transplant.json\n",
      "Loading module modules/lung_cancer.json\n",
      "Loading module modules/lupus.json\n",
      "Loading module modules/mTBI.json\n",
      "Loading module modules/med_rec.json\n",
      "Loading module modules/mend_program.json\n",
      "Loading module modules/metabolic_syndrome_care.json\n",
      "Loading module modules/metabolic_syndrome_disease.json\n",
      "Loading module modules/myocardial_infarction.json\n",
      "Loading module modules/opioid_addiction.json\n",
      "Loading module modules/osteoarthritis.json\n",
      "Loading module modules/osteoporosis.json\n",
      "Loading module modules/pregnancy.json\n",
      "Loading module modules/prescribing_opioids_for_chronic_pain_and_treatment_of_oud.json\n",
      "Loading module modules/rheumatoid_arthritis.json\n",
      "Loading module modules/self_harm.json\n",
      "Loading module modules/sepsis.json\n",
      "Loading module modules/sexual_activity.json\n",
      "Loading module modules/sinusitis.json\n",
      "Loading module modules/sleep_apnea.json\n",
      "Loading module modules/sore_throat.json\n",
      "Loading module modules/spina_bifida.json\n",
      "Loading module modules/stable_ischemic_heart_disease.json\n",
      "Loading module modules/stroke.json\n",
      "Loading module modules/total_joint_replacement.json\n",
      "Loading module modules/trigger_bone_marrow_transplant.json\n",
      "Loading module modules/urinary_tract_infections.json\n",
      "Loading Lookup Table: uti.csv\n",
      "Loading Lookup Table: uti_recurrence.csv\n",
      "Loading module modules/veteran.json\n",
      "Loading module modules/veteran_hyperlipidemia.json\n",
      "Loading module modules/veteran_lung_cancer.json\n",
      "Loading module modules/veteran_mdd.json\n",
      "Loading module modules/veteran_prostate_cancer.json\n",
      "Loading module modules/veteran_ptsd.json\n",
      "Loading module modules/veteran_self_harm.json\n",
      "Loading module modules/veteran_substance_abuse_conditions.json\n",
      "Loading module modules/veteran_substance_abuse_treatment.json\n",
      "Loading module modules/vhd_aortic.json\n",
      "Loading Lookup Table: vhd_as.csv\n",
      "Loading Lookup Table: vhd_ar.csv\n",
      "Loading module modules/vhd_mitral.json\n",
      "Loading Lookup Table: vhd_mr.csv\n",
      "Loading Lookup Table: vhd_ms.csv\n",
      "Loading module modules/vhd_pulmonic.json\n",
      "Loading Lookup Table: vhd_ps.csv\n",
      "Loading Lookup Table: vhd_pr.csv\n",
      "Loading module modules/vhd_tricuspid.json\n",
      "Loading Lookup Table: vhd_tr.csv\n",
      "Loading Lookup Table: vhd_ts.csv\n",
      "Loading module modules/wellness_encounters.json\n",
      "Running with options:\n",
      "Population: 5\n",
      "Seed: 12345\n",
      "Provider Seed:1746030871974\n",
      "Reference Time: 1746030871974\n",
      "Location: Massachusetts\n",
      "Min Age: 30\n",
      "Max Age: 85\n",
      "2 -- Rasheeda241 Mirian768 Lubowitz58 (35 y/o F) Boston, Massachusetts  (51042)\n",
      "1 -- Lorenzo669 Urrutia540 (51 y/o M) Chicopee, Massachusetts DECEASED (74857)\n",
      "3 -- Jacque955 Jin479 Powlowski563 (58 y/o F) Shrewsbury, Massachusetts DECEASED (88822)\n",
      "1 -- Benjamín452 Apodaca347 (67 y/o M) Chicopee, Massachusetts  (100503)\n",
      "4 -- Keven605 Daugherty69 (50 y/o M) Dalton, Massachusetts  (72889)\n",
      "3 -- Roselee899 Pfannerstill264 (68 y/o F) Shrewsbury, Massachusetts  (102200)\n",
      "5 -- Angela104 Funk324 (81 y/o F) South Yarmouth, Massachusetts  (119347)\n",
      "Records: total=7, alive=5, dead=2\n",
      "RNG=5\n",
      "Clinician RNG=5641\n",
      "\n",
      "🎉 Success! Generated 18 CSV files:\n",
      "- careplans.csv\n",
      "- patients.csv\n",
      "- providers.csv\n",
      "- claims_transactions.csv\n",
      "- observations.csv\n",
      "\n",
      "Total records across all CSV files: 5 patients\n"
     ]
    }
   ],
   "source": [
    "# @title Synthea Patient Generator (CSV Version)\n",
    "import os\n",
    "from IPython.display import clear_output\n",
    "\n",
    "# Configuration\n",
    "num_patients = 5  # @param {type:\"integer\"}\n",
    "state = \"Massachusetts\"  # @param [\"Massachusetts\", \"California\", \"New York\", \"Texas\", \"Florida\"]\n",
    "age_range = \"30-85\"  # @param {type:\"string\"}\n",
    "seed = 12345  # @param {type:\"integer\"}\n",
    "\n",
    "# Install Java\n",
    "!sudo apt-get update\n",
    "!sudo apt-get install -y openjdk-11-jdk-headless\n",
    "clear_output()\n",
    "print(\"✅ Java installed\")\n",
    "\n",
    "# Download Synthea\n",
    "!wget -q https://github.com/synthetichealth/synthea/releases/download/master-branch-latest/synthea-with-dependencies.jar\n",
    "clear_output()\n",
    "print(\"✅ Synthea downloaded\")\n",
    "\n",
    "# Generate patients (using proper string substitution)\n",
    "!java -jar synthea-with-dependencies.jar \\\n",
    "  -p {num_patients} \\\n",
    "  -s {seed} \\\n",
    "  -a \"{age_range}\" \\\n",
    "  --exporter.baseDirectory \"./output\" \\\n",
    "  --exporter.fhir.export=False \\\n",
    "  --exporter.csv.export=True \\\n",
    "  {state}\n",
    "\n",
    "# Verify output\n",
    "csv_output_path = \"./output/csv\"\n",
    "if os.path.exists(csv_output_path):\n",
    "    csv_files = [f for f in os.listdir(csv_output_path) if f.endswith('.csv')]\n",
    "    if csv_files:\n",
    "        print(f\"\\n🎉 Success! Generated {len(csv_files)} CSV files:\")\n",
    "        for file in csv_files[:5]:  # Show first 5 files\n",
    "            print(f\"- {file}\")\n",
    "        print(f\"\\nTotal records across all CSV files: {num_patients} patients\")\n",
    "    else:\n",
    "        print(\"\\n⚠ CSV directory exists but contains no CSV files\")\n",
    "else:\n",
    "    print(\"\\n❌ Generation failed. Common fixes:\")\n",
    "    print(\"1. Try reducing patient count (start with 10)\")\n",
    "    print(\"2. Check Java version:\")\n",
    "    !java -version\n",
    "    print(\"3. Disk space:\")\n",
    "    !df -h"
   ]
  },
  {
   "cell_type": "code",
   "execution_count": 10,
   "metadata": {
    "id": "5iRZ0ROLV0j_"
   },
   "outputs": [],
   "source": [
    "#for working in google colab\n",
    "\n",
    "path = '/content/output/csv/'"
   ]
  },
  {
   "cell_type": "markdown",
   "metadata": {},
   "source": [
    "## 2) Creating the spark dataframes "
   ]
  },
  {
   "cell_type": "code",
   "execution_count": 11,
   "metadata": {
    "id": "7LoWuO7AUH9a"
   },
   "outputs": [],
   "source": [
    "#patient\n",
    "observations = spark.read.csv(path+\"observations.csv\", header=True)\n",
    "patient = spark.read.csv(path+\"patients.csv\", header=True) #includes healthcare coverage\n",
    "\n",
    "#medical\n",
    "careplans = spark.read.csv(path+\"careplans.csv\", header=True)\n",
    "conditions = spark.read.csv(path+\"conditions.csv\", header=True)\n",
    "procedures=spark.read.csv(path+\"procedures.csv\", header=True)\n",
    "encounters = spark.read.csv(path+\"encounters.csv\", header=True)\n",
    "medications = spark.read.csv(path+\"medications.csv\", header=True)\n",
    "\n",
    "#insurance and hospital\n",
    "payer_transitions=spark.read.csv(path+\"payer_transitions.csv\", header=True)\n",
    "payers=spark.read.csv(path+\"payers.csv\", header=True)\n",
    "providers=spark.read.csv(path+\"providers.csv\", header=True)\n",
    "organizations=spark.read.csv(path+\"organizations.csv\", header=True)"
   ]
  },
  {
   "cell_type": "markdown",
   "metadata": {},
   "source": [
    "## 3) Cleaning dataframes and renaming variables "
   ]
  },
  {
   "cell_type": "code",
   "execution_count": 12,
   "metadata": {
    "id": "AlZ6m6w-UVRC"
   },
   "outputs": [],
   "source": [
    "# renaming columns\n",
    "\n",
    "patient = (\n",
    "    patient.withColumnRenamed(\"Id\", \"patient_id\")\n",
    "           .withColumnRenamed(\"MARITAL\", \"patient_marital\")\n",
    "           .withColumnRenamed(\"RACE\", \"patient_race\")\n",
    "           .withColumnRenamed(\"ETHNICITY\", \"patient_ethnicity\")\n",
    "           .withColumnRenamed(\"GENDER\", \"patient_gender\")\n",
    "           .withColumnRenamed(\"ZIP\", \"patient_zip\")\n",
    ")\n",
    "\n",
    "encounters = (\n",
    "    encounters.withColumnRenamed(\"PATIENT\", \"patient_id\")\n",
    "              .withColumnRenamed(\"Id\", \"encounter_id\")\n",
    "              .withColumnRenamed(\"DESCRIPTION\", \"encounter_discription\")\n",
    "              .withColumnRenamed(\"CODE\", \"encounter_code\")\n",
    "              .withColumnRenamed(\"START\", \"encounter_start\")\n",
    "              .withColumn(\"encounter_start\", to_date(\"encounter_start\"))\n",
    "              .withColumnRenamed(\"STOP\", \"encounter_stop\")\n",
    "              .withColumn(\"encounter_stop\", to_date(\"encounter_stop\"))\n",
    "              .withColumn(\"PATIENT COST\", col(\"TOTAL_CLAIM_COST\") - col(\"PAYER_COVERAGE\"))\n",
    "              .withColumnRenamed(\"PAYER\", \"payer_id\")\n",
    "              .withColumnRenamed(\"ORGANIZATION\", \"organization_id\")\n",
    "              .withColumnRenamed(\"PROVIDER\", \"provider_id\")\n",
    ")\n",
    "\n",
    "careplans = (\n",
    "    careplans.withColumnRenamed(\"PATIENT\", \"patient_id\")\n",
    "             .withColumnRenamed(\"Id\", \"careplan_id\")\n",
    "             .withColumnRenamed(\"ENCOUNTER\", \"encounter_id\")\n",
    "             .withColumnRenamed(\"DESCRIPTION\", \"careplan_descriptions\")\n",
    "             .withColumnRenamed(\"CODE\", \"careplan_code\")\n",
    ")\n",
    "\n",
    "procedures = (\n",
    "    procedures.withColumnRenamed(\"PATIENT\", \"patient_id\")\n",
    "              .withColumnRenamed(\"ENCOUNTER\", \"encounter_id\")\n",
    "              .withColumnRenamed(\"DESCRIPTION\", \"procedure_descriptions\")\n",
    "              .withColumnRenamed(\"CODE\", \"procedure_code\")\n",
    "              .withColumnRenamed(\"DATE\", \"procedure_date\")\n",
    "              .withColumnRenamed(\"BASE_COST\", \"procedure_cost\")\n",
    ")\n",
    "\n",
    "conditions = (\n",
    "    conditions.withColumnRenamed(\"PATIENT\", \"patient_id\")\n",
    "              .withColumnRenamed(\"ENCOUNTER\", \"encounter_id\")\n",
    "              .withColumnRenamed(\"DESCRIPTION\", \"condition_description\")\n",
    "              .withColumnRenamed(\"CODE\", \"condition_code\")\n",
    "              .withColumnRenamed(\"START\", \"condition_start\")\n",
    "              .withColumnRenamed(\"END\", \"condition_end\")\n",
    ")\n",
    "\n",
    "observations = (\n",
    "    observations.withColumnRenamed(\"PATIENT\", \"patient_id\")\n",
    "                .withColumnRenamed(\"ENCOUNTER\", \"encounter_id\")\n",
    "                .withColumnRenamed(\"DATE\", \"observation_date\")\n",
    "                .withColumn(\"observation_date\", to_date(\"observation_date\"))\n",
    ")\n",
    "\n",
    "medications = (\n",
    "    medications.withColumnRenamed(\"START\", \"medication_start\")\n",
    "               .withColumn(\"medication_start\", to_date(\"medication_start\"))\n",
    "               .withColumnRenamed(\"STOP\", \"medication_stop\")\n",
    "               .withColumn(\"medication_stop\", to_date(\"medication_stop\"))\n",
    "               .withColumnRenamed(\"PATIENT\", \"patient_id\")\n",
    "               .withColumnRenamed(\"PAYER\", \"payer_id\")\n",
    "               .withColumnRenamed(\"ENCOUNTER\", \"encounter_id\")\n",
    "               .withColumnRenamed(\"CODE\", \"medication_code\")\n",
    "               .withColumnRenamed(\"DESCRIPTION\", \"medication_description\")\n",
    ")\n",
    "\n",
    "payer_transitions = (\n",
    "    payer_transitions.withColumnRenamed(\"PATIENT\", \"patient_id\")\n",
    "                     .withColumnRenamed(\"PAYER\", \"payer_id\")\n",
    ")\n",
    "\n",
    "payers = (\n",
    "    payers.withColumnRenamed(\"Id\", \"payer_id\")\n",
    "          .withColumnRenamed(\"NAME\", \"payer_name\")\n",
    "          .withColumnRenamed(\"OWNERSHIP\", \"payer_ownership\")\n",
    ")\n",
    "\n",
    "providers = (\n",
    "    providers.withColumnRenamed(\"Id\", \"provider_id\")\n",
    "             .withColumnRenamed(\"SPECIALITY\", \"provider_specialty\")\n",
    ")\n",
    "\n",
    "organizations = (\n",
    "    organizations.withColumnRenamed(\"Id\", \"organization_id\")\n",
    "                 .withColumnRenamed(\"NAME\", \"organization_name\")\n",
    "                 .withColumnRenamed(\"ZIP\", \"organization_zip\")\n",
    "                 .withColumn(\"organization_zip\", substring(col(\"organization_zip\").cast(\"string\"), 1, 5))\n",
    ")"
   ]
  },
  {
   "cell_type": "code",
   "execution_count": null,
   "metadata": {},
   "outputs": [],
   "source": [
    "#can do this too \n",
    "encounters = (\n",
    "    encounters\n",
    "    .join(payers.select(\"payer_id\", \"payer_name\", \"payer_ownership\"), on=\"payer_id\", how=\"left\")\n",
    "    .join(organizations.select(\"organization_id\", \"organization_name\", \"organization_zip\"), on=\"organization_id\", how=\"left\")\n",
    "    .join(providers.select(\"provider_id\", \"provider_specialty\"), on=\"provider_id\", how=\"left\")\n",
    "    .join(procedures.select(\"encounter_id\", \"procedure_descriptions\", \"procedure_code\"), on=\"encounter_id\", how=\"left\")\n",
    "    .join(patient.select(\"patient_id\", \"BIRTHDATE\", \"patient_marital\", \"patient_race\", \"patient_ethnicity\", \"patient_gender\", \"patient_zip\"), on=\"patient_id\", how=\"left\")\n",
    "    .withColumn(\"age_at_encounter\", floor(datediff(col(\"encounter_start\"), col(\"BIRTHDATE\")) / 365.25))\n",
    ")"
   ]
  },
  {
   "cell_type": "code",
   "execution_count": 14,
   "metadata": {
    "id": "p3GufjFtZ5wm"
   },
   "outputs": [],
   "source": [
    "# Merge the payer information into the encounters DataFrame\n",
    "encounters = encounters.join(payers.select('payer_id', 'payer_name', 'payer_ownership'), on='payer_id', how='left')\n"
   ]
  },
  {
   "cell_type": "code",
   "execution_count": 15,
   "metadata": {
    "id": "3FliWfHkbEMF"
   },
   "outputs": [],
   "source": [
    "encounters = encounters.join(organizations.select('organization_id', 'organization_name', 'organization_zip'), on='organization_id', how='left')"
   ]
  },
  {
   "cell_type": "code",
   "execution_count": 16,
   "metadata": {
    "id": "tzCCcJZ8cfxn"
   },
   "outputs": [],
   "source": [
    "encounters = encounters.join(providers.select('provider_id', 'provider_specialty'), on='provider_id', how='left')"
   ]
  },
  {
   "cell_type": "code",
   "execution_count": 17,
   "metadata": {
    "id": "hP0eZINZdmqG"
   },
   "outputs": [],
   "source": [
    "encounters = encounters.join(procedures.select('encounter_id','procedure_descriptions','procedure_code'), on='encounter_id', how='left')"
   ]
  },
  {
   "cell_type": "code",
   "execution_count": 18,
   "metadata": {
    "id": "_p3pCqz4eLzC"
   },
   "outputs": [],
   "source": [
    "encounters = encounters.join(patient.select('patient_id','BIRTHDATE','patient_marital','patient_race','patient_ethnicity','patient_gender','patient_zip'), on='patient_id', how='left')\n"
   ]
  },
  {
   "cell_type": "code",
   "execution_count": 19,
   "metadata": {
    "id": "nS7ZgyKlfAV9"
   },
   "outputs": [],
   "source": [
    "# Calculate the age at the time of the encounter\n",
    "encounters = encounters.withColumn(\"age_at_encounter\", datediff(col(\"encounter_start\"), col(\"BIRTHDATE\")) / 365.25)\n",
    "\n",
    "# Apply the floor function to the 'age_at_encounter' column\n",
    "encounters = encounters.withColumn(\"age_at_encounter\", floor(col(\"age_at_encounter\")))"
   ]
  },
  {
   "cell_type": "code",
   "execution_count": 20,
   "metadata": {
    "colab": {
     "base_uri": "https://localhost:8080/"
    },
    "id": "Wq_Bd8YldnMb",
    "outputId": "cc2062fa-0a87-4d51-d6c5-7c916e75cffd"
   },
   "outputs": [
    {
     "name": "stdout",
     "output_type": "stream",
     "text": [
      "+--------------------+--------------------+--------------------+--------------------+--------------------+---------------+--------------+--------------+--------------+---------------------+-------------------+----------------+--------------+----------+--------------------+------------------+------------+---------------+--------------------+----------------+------------------+----------------------+--------------+----------+---------------+------------+-----------------+--------------+-----------+----------------+\n",
      "|          patient_id|        encounter_id|         provider_id|     organization_id|            payer_id|encounter_start|encounter_stop|ENCOUNTERCLASS|encounter_code|encounter_discription|BASE_ENCOUNTER_COST|TOTAL_CLAIM_COST|PAYER_COVERAGE|REASONCODE|   REASONDESCRIPTION|      PATIENT COST|  payer_name|payer_ownership|   organization_name|organization_zip|provider_specialty|procedure_descriptions|procedure_code| BIRTHDATE|patient_marital|patient_race|patient_ethnicity|patient_gender|patient_zip|age_at_encounter|\n",
      "+--------------------+--------------------+--------------------+--------------------+--------------------+---------------+--------------+--------------+--------------+---------------------+-------------------+----------------+--------------+----------+--------------------+------------------+------------+---------------+--------------------+----------------+------------------+----------------------+--------------+----------+---------------+------------+-----------------+--------------+-----------+----------------+\n",
      "|4113255f-4e35-506...|50c2a3aa-80d8-325...|bc4cebd9-41fe-307...|0d1570ab-371c-389...|e03e23c9-4df1-3eb...|     1994-11-08|    1994-11-08|    ambulatory|     185345009| Encounter for sym...|              85.55|           85.55|          0.00| 446096008|Perennial allergi...|             85.55|NO_INSURANCE|   NO_INSURANCE|TUFTS MEDICAL CEN...|           02111|  GENERAL PRACTICE|                  NULL|          NULL|1989-07-29|              M|       black|      nonhispanic|             F|      02130|               5|\n",
      "|4113255f-4e35-506...|5e6bbca4-b818-271...|bc4cebd9-41fe-307...|0d1570ab-371c-389...|e03e23c9-4df1-3eb...|     1994-11-15|    1994-11-15|    ambulatory|     185347001| Encounter for pro...|              85.55|          516.95|          0.00| 609328004|Allergic disposit...|            516.95|NO_INSURANCE|   NO_INSURANCE|TUFTS MEDICAL CEN...|           02111|  GENERAL PRACTICE|                  NULL|          NULL|1989-07-29|              M|       black|      nonhispanic|             F|      02130|               5|\n",
      "|4113255f-4e35-506...|07455610-43c3-fdf...|240d1393-68a8-300...|c0719377-d40a-3e9...|734afbd6-4794-363...|     2007-09-29|    2007-09-29|      wellness|     162673000| General examinati...|             136.80|          919.90|        919.90|      NULL|                NULL|               0.0|      Anthem|        PRIVATE|CARBON HEALTH PRI...|           02110|  GENERAL PRACTICE|                  NULL|          NULL|1989-07-29|              M|       black|      nonhispanic|             F|      02130|              18|\n",
      "|4113255f-4e35-506...|bd16e8d0-33bd-29a...|bc4cebd9-41fe-307...|0d1570ab-371c-389...|734afbd6-4794-363...|     2008-11-01|    2008-11-01|    outpatient|     185349003| Encounter for che...|              85.55|          904.02|        723.22|      NULL|                NULL|180.79999999999995|      Anthem|        PRIVATE|TUFTS MEDICAL CEN...|           02111|  GENERAL PRACTICE|                  NULL|          NULL|1989-07-29|              M|       black|      nonhispanic|             F|      02130|              19|\n",
      "|4113255f-4e35-506...|22b0119f-bac2-79e...|bc4cebd9-41fe-307...|0d1570ab-371c-389...|734afbd6-4794-363...|     2008-11-08|    2008-11-10|     inpatient|     185347001| Encounter for pro...|              87.71|        13186.90|      10549.52|  74400008|Appendicitis (dis...| 2637.379999999999|      Anthem|        PRIVATE|TUFTS MEDICAL CEN...|           02111|  GENERAL PRACTICE|                  NULL|          NULL|1989-07-29|              M|       black|      nonhispanic|             F|      02130|              19|\n",
      "|4113255f-4e35-506...|03a222a6-fa97-87f...|240d1393-68a8-300...|c0719377-d40a-3e9...|734afbd6-4794-363...|     2011-10-08|    2011-10-08|      wellness|     162673000| General examinati...|             136.80|         1186.78|        949.42|      NULL|                NULL|            237.36|      Anthem|        PRIVATE|CARBON HEALTH PRI...|           02110|  GENERAL PRACTICE|                  NULL|          NULL|1989-07-29|              M|       black|      nonhispanic|             F|      02130|              22|\n",
      "|4113255f-4e35-506...|33585868-72a5-575...|bc4cebd9-41fe-307...|0d1570ab-371c-389...|0133f751-9229-3cf...|     2014-02-03|    2014-02-03|    outpatient|     185347001| Encounter for pro...|              85.55|           85.55|          0.00|  82423001|Chronic pain (fin...|             85.55|       Aetna|        PRIVATE|TUFTS MEDICAL CEN...|           02111|  GENERAL PRACTICE|                  NULL|          NULL|1989-07-29|              M|       black|      nonhispanic|             F|      02130|              24|\n",
      "|4113255f-4e35-506...|01658ff8-227e-702...|240d1393-68a8-300...|c0719377-d40a-3e9...|0133f751-9229-3cf...|     2014-10-11|    2014-10-11|      wellness|     162673000| General examinati...|             136.80|          919.90|          0.00|      NULL|                NULL|             919.9|       Aetna|        PRIVATE|CARBON HEALTH PRI...|           02110|  GENERAL PRACTICE|                  NULL|          NULL|1989-07-29|              M|       black|      nonhispanic|             F|      02130|              25|\n",
      "|4113255f-4e35-506...|bc1331b0-f806-7d5...|bc4cebd9-41fe-307...|0d1570ab-371c-389...|0133f751-9229-3cf...|     2015-04-25|    2015-04-25|    outpatient|     698314001| Consultation for ...|             142.58|          142.58|          0.00| 389095005|Contraception car...|            142.58|       Aetna|        PRIVATE|TUFTS MEDICAL CEN...|           02111|  GENERAL PRACTICE|                  NULL|          NULL|1989-07-29|              M|       black|      nonhispanic|             F|      02130|              25|\n",
      "|4113255f-4e35-506...|9d11640e-5958-60a...|bc4cebd9-41fe-307...|0d1570ab-371c-389...|0133f751-9229-3cf...|     2016-04-06|    2016-04-06|    ambulatory|     185345009| Encounter for sym...|              85.55|          948.35|          0.00| 195662009|Acute viral phary...|            948.35|       Aetna|        PRIVATE|TUFTS MEDICAL CEN...|           02111|  GENERAL PRACTICE|  Throat culture (p...|     117015009|1989-07-29|              M|       black|      nonhispanic|             F|      02130|              26|\n",
      "|4113255f-4e35-506...|107d4aac-9304-190...|bc4cebd9-41fe-307...|0d1570ab-371c-389...|0133f751-9229-3cf...|     2016-04-22|    2016-04-22|    outpatient|     698314001| Consultation for ...|             142.58|          142.58|          0.00| 389095005|Contraception car...|            142.58|       Aetna|        PRIVATE|TUFTS MEDICAL CEN...|           02111|  GENERAL PRACTICE|                  NULL|          NULL|1989-07-29|              M|       black|      nonhispanic|             F|      02130|              26|\n",
      "|4113255f-4e35-506...|f2200824-2906-9a8...|bc4cebd9-41fe-307...|0d1570ab-371c-389...|734afbd6-4794-363...|     2016-07-30|    2016-07-30|    ambulatory|     185345009| Encounter for sym...|              85.55|           85.55|          0.00|  36971009|Sinusitis (disorder)|             85.55|      Anthem|        PRIVATE|TUFTS MEDICAL CEN...|           02111|  GENERAL PRACTICE|                  NULL|          NULL|1989-07-29|              M|       black|      nonhispanic|             F|      02130|              27|\n",
      "|4113255f-4e35-506...|b11ac592-b1e8-d73...|bc4cebd9-41fe-307...|0d1570ab-371c-389...|734afbd6-4794-363...|     2017-05-06|    2017-05-06|    outpatient|     308335008| Patient encounter...|             142.58|          573.98|          0.00| 389095005|Contraception car...|            573.98|      Anthem|        PRIVATE|TUFTS MEDICAL CEN...|           02111|  GENERAL PRACTICE|  Removal of intrau...|    1263416007|1989-07-29|              M|       black|      nonhispanic|             F|      02130|              27|\n",
      "|4113255f-4e35-506...|03a8e57f-07f8-f44...|bc4cebd9-41fe-307...|0d1570ab-371c-389...|734afbd6-4794-363...|     2017-06-24|    2017-06-24|    ambulatory|     424441002| Prenatal initial ...|             142.58|         6639.41|       4736.18|  72892002|Normal pregnancy ...|1903.2299999999996|      Anthem|        PRIVATE|TUFTS MEDICAL CEN...|           02111|  GENERAL PRACTICE|  Ultrasound scan f...|     169230002|1989-07-29|              M|       black|      nonhispanic|             F|      02130|              27|\n",
      "|4113255f-4e35-506...|03a8e57f-07f8-f44...|bc4cebd9-41fe-307...|0d1570ab-371c-389...|734afbd6-4794-363...|     2017-06-24|    2017-06-24|    ambulatory|     424441002| Prenatal initial ...|             142.58|         6639.41|       4736.18|  72892002|Normal pregnancy ...|1903.2299999999996|      Anthem|        PRIVATE|TUFTS MEDICAL CEN...|           02111|  GENERAL PRACTICE|  Standard pregnanc...|     252160004|1989-07-29|              M|       black|      nonhispanic|             F|      02130|              27|\n",
      "|4113255f-4e35-506...|117e7d4b-58ac-4db...|bc4cebd9-41fe-307...|0d1570ab-371c-389...|734afbd6-4794-363...|     2017-07-09|    2017-07-09|    ambulatory|     270427003| Patient-initiated...|              85.55|         6753.03|       5402.42|  72892002|Normal pregnancy ...|1350.6099999999997|      Anthem|        PRIVATE|TUFTS MEDICAL CEN...|           02111|  GENERAL PRACTICE|  Induced terminati...|     714812005|1989-07-29|              M|       black|      nonhispanic|             F|      02130|              27|\n",
      "|4113255f-4e35-506...|117e7d4b-58ac-4db...|bc4cebd9-41fe-307...|0d1570ab-371c-389...|734afbd6-4794-363...|     2017-07-09|    2017-07-09|    ambulatory|     270427003| Patient-initiated...|              85.55|         6753.03|       5402.42|  72892002|Normal pregnancy ...|1350.6099999999997|      Anthem|        PRIVATE|TUFTS MEDICAL CEN...|           02111|  GENERAL PRACTICE|  Counseling for te...|      10383002|1989-07-29|              M|       black|      nonhispanic|             F|      02130|              27|\n",
      "|4113255f-4e35-506...|a1b72b23-e534-e37...|bc4cebd9-41fe-307...|0d1570ab-371c-389...|734afbd6-4794-363...|     2017-07-16|    2017-07-16|    ambulatory|     424619006| Prenatal visit (r...|             142.58|         1531.03|       1224.82|  72892002|Normal pregnancy ...|306.21000000000004|      Anthem|        PRIVATE|TUFTS MEDICAL CEN...|           02111|  GENERAL PRACTICE|  Depression screen...|     171207006|1989-07-29|              M|       black|      nonhispanic|             F|      02130|              27|\n",
      "|4113255f-4e35-506...|a1b72b23-e534-e37...|bc4cebd9-41fe-307...|0d1570ab-371c-389...|734afbd6-4794-363...|     2017-07-16|    2017-07-16|    ambulatory|     424619006| Prenatal visit (r...|             142.58|         1531.03|       1224.82|  72892002|Normal pregnancy ...|306.21000000000004|      Anthem|        PRIVATE|TUFTS MEDICAL CEN...|           02111|  GENERAL PRACTICE|  Physical examinat...|       5880005|1989-07-29|              M|       black|      nonhispanic|             F|      02130|              27|\n",
      "|4113255f-4e35-506...|a1b72b23-e534-e37...|bc4cebd9-41fe-307...|0d1570ab-371c-389...|734afbd6-4794-363...|     2017-07-16|    2017-07-16|    ambulatory|     424619006| Prenatal visit (r...|             142.58|         1531.03|       1224.82|  72892002|Normal pregnancy ...|306.21000000000004|      Anthem|        PRIVATE|TUFTS MEDICAL CEN...|           02111|  GENERAL PRACTICE|  Pregnancy termina...|     386394001|1989-07-29|              M|       black|      nonhispanic|             F|      02130|              27|\n",
      "+--------------------+--------------------+--------------------+--------------------+--------------------+---------------+--------------+--------------+--------------+---------------------+-------------------+----------------+--------------+----------+--------------------+------------------+------------+---------------+--------------------+----------------+------------------+----------------------+--------------+----------+---------------+------------+-----------------+--------------+-----------+----------------+\n",
      "only showing top 20 rows\n",
      "\n"
     ]
    }
   ],
   "source": [
    "encounters.show()"
   ]
  },
  {
   "cell_type": "code",
   "execution_count": 20,
   "metadata": {
    "id": "2mNaI6flhLXz"
   },
   "outputs": [],
   "source": []
  }
 ],
 "metadata": {
  "colab": {
   "provenance": []
  },
  "kernelspec": {
   "display_name": "Python 3 (ipykernel)",
   "language": "python",
   "name": "python3"
  },
  "language_info": {
   "codemirror_mode": {
    "name": "ipython",
    "version": 3
   },
   "file_extension": ".py",
   "mimetype": "text/x-python",
   "name": "python",
   "nbconvert_exporter": "python",
   "pygments_lexer": "ipython3",
   "version": "3.12.4"
  }
 },
 "nbformat": 4,
 "nbformat_minor": 4
}
